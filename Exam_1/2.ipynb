{
 "cells": [
  {
   "cell_type": "markdown",
   "metadata": {},
   "source": [
    "# <center> A <center>\n",
    "The beam will experience the highest moment of x on the point furthest away from the wall because it is an extremity and it doesn't have a wall creating a force in the opposite direction in this location"
   ]
  },
  {
   "cell_type": "markdown",
   "metadata": {},
   "source": [
    "# <center> B <center>\n",
    "Given that the beam is symmetric along the y axis, the center x-coordinate will be at $\\frac{b}{2}$"
   ]
  },
  {
   "cell_type": "markdown",
   "metadata": {},
   "source": [
    "$y_c = \\frac{\\sum yA}{\\sum A} = \\frac{2\\frac{b}{2}(bt) + t(2t(b-2t))}{2bt+2t(b-2t)}$"
   ]
  },
  {
   "cell_type": "markdown",
   "metadata": {},
   "source": [
    "Since $t^n~0$ when $n>1$, $t(2t(b-2t))=0$ and $4t^2=0$"
   ]
  },
  {
   "cell_type": "markdown",
   "metadata": {},
   "source": [
    "$y_c = \\frac{b^2t}{2bt+2tb}=\\frac{b^2t}{4tb}=\\frac{b}{4}$"
   ]
  },
  {
   "cell_type": "markdown",
   "metadata": {},
   "source": [
    "This has been proven with the following code:"
   ]
  },
  {
   "cell_type": "code",
   "execution_count": 188,
   "metadata": {
    "is_executing": true
   },
   "outputs": [
    {
     "name": "stdout",
     "output_type": "stream",
     "text": [
      "x_c=b/2 \n",
      "y_c=b/4\n"
     ]
    }
   ],
   "source": [
    "import numpy as np; import sympy as spy\n",
    "\n",
    "\n",
    "# Define some symbols for the problem\n",
    "b, t, M_x, y = spy.symbols('b t M_x y')\n",
    "\n",
    "# Define the geometry of the beam\n",
    "left_arm = {'x': t, 'y': b, 'x_c': t/2, 'y_c': b/2}\n",
    "center_beam = {'x': b-2*t, 'y': 2*t, 'x_c': b/2, 'y_c': t}\n",
    "right_arm = {'x': t, 'y': b, 'x_c': b-(t/2), 'y_c': b/2}\n",
    "\n",
    "# Create a list of the elements in the beam for easier manipulation\n",
    "element_list = [left_arm, center_beam, right_arm]\n",
    "\n",
    "# Calculate the centroid of the beam\n",
    "y_c = (left_arm['y_c'] * left_arm['x'] * left_arm['y'] + center_beam['y_c'] * center_beam['x'] * center_beam['y'] + right_arm['y_c'] * right_arm['x'] * right_arm['y'])/(left_arm['x'] * left_arm['y'] + center_beam['x'] * center_beam['y'] + right_arm['x'] * right_arm['y'])\n",
    "x_c = (left_arm['x_c'] * left_arm['x'] * left_arm['y'] + center_beam['x_c'] * center_beam['x'] * center_beam['y'] + right_arm['x_c'] * right_arm['x'] * right_arm['y'])/(left_arm['x'] * left_arm['y'] + center_beam['x'] * center_beam['y'] + right_arm['x'] * right_arm['y'])\n",
    "\n",
    "# Simplify the centroid equations based on t^n = 0\n",
    "x_c, y_c = spy.expand(x_c), spy.expand(y_c)\n",
    "for m in range(2, 5):\n",
    "    x_c = x_c.subs(t**m, 0)\n",
    "    y_c = y_c.subs(t**m, 0)\n",
    "\n",
    "x_c, y_c = x_c.subs(t**2, 0), y_c.subs(t**2, 0)\n",
    "print(f'x_c={x_c} \\ny_c={y_c}')\n"
   ]
  },
  {
   "cell_type": "markdown",
   "metadata": {},
   "source": [
    "# <center> C <center>"
   ]
  },
  {
   "cell_type": "code",
   "execution_count": 189,
   "metadata": {},
   "outputs": [
    {
     "data": {
      "text/plain": [
       "'I_xx ='"
      ]
     },
     "metadata": {},
     "output_type": "display_data"
    },
    {
     "data": {
      "text/latex": [
       "$\\displaystyle \\frac{5 b^{3} t}{12}$"
      ],
      "text/plain": [
       "5*b**3*t/12"
      ]
     },
     "metadata": {},
     "output_type": "display_data"
    },
    {
     "data": {
      "text/plain": [
       "'I_yy ='"
      ]
     },
     "metadata": {},
     "output_type": "display_data"
    },
    {
     "data": {
      "text/latex": [
       "$\\displaystyle \\frac{2 b^{3} t}{3}$"
      ],
      "text/plain": [
       "2*b**3*t/3"
      ]
     },
     "metadata": {},
     "output_type": "display_data"
    },
    {
     "data": {
      "text/plain": [
       "'I_xy ='"
      ]
     },
     "metadata": {},
     "output_type": "display_data"
    },
    {
     "data": {
      "text/latex": [
       "$\\displaystyle 0$"
      ],
      "text/plain": [
       "0"
      ]
     },
     "metadata": {},
     "output_type": "display_data"
    }
   ],
   "source": [
    "\n",
    "# Calculate the moments of area for each element\n",
    "for m in range(3):\n",
    "    exec(f'I_xx_{m} = (1/12) * element_list[{m}][\"x\"] * element_list[{m}][\"y\"]**3 + element_list[{m}][\"x\"] * element_list[{m}][\"y\"] * (element_list[{m}][\"y_c\"] - y_c)**2')\n",
    "    exec(f'I_yy_{m} = (1/12) * element_list[{m}][\"y\"] * element_list[{m}][\"x\"]**3 + element_list[{m}][\"y\"] * element_list[{m}][\"x\"] * (element_list[{m}][\"x_c\"] - x_c)**2')\n",
    "    exec(f'I_xy_{m} = element_list[{m}][\"x\"] * element_list[{m}][\"y\"] * (element_list[{m}][\"y_c\"] - y_c) * (element_list[{m}][\"x_c\"] - x_c)')\n",
    "\n",
    "# Calculate the total moments of area\n",
    "I_xx = I_xx_1 + I_xx_2 + I_xx_3\n",
    "I_yy = I_yy_1 + I_yy_2 + I_yy_3\n",
    "I_xy = I_xy_1 + I_xy_2 + I_xy_3\n",
    "\n",
    "# Simplify the equations based on t^n = 0\n",
    "I_xx, I_yy, I_xy = spy.expand(I_xx), spy.expand(I_yy), spy.expand(I_xy)\n",
    "for m in range(2, 5):\n",
    "    I_xx = I_xx.subs(t**m, 0)\n",
    "    I_yy = I_yy.subs(t**m, 0)\n",
    "    I_xy = I_xy.subs(t**m, 0)\n",
    "\n",
    "I_xx, I_yy, I_xy = spy.nsimplify(I_xx), spy.nsimplify(I_yy), spy.nsimplify(I_xy)\n",
    "display('I_xx =', I_xx)\n",
    "display('I_yy =', I_yy)\n",
    "display('I_xy =', I_xy)"
   ]
  },
  {
   "cell_type": "markdown",
   "metadata": {},
   "source": [
    "display(Markdown(I_xx))"
   ]
  },
  {
   "cell_type": "code",
   "execution_count": 190,
   "metadata": {},
   "outputs": [
    {
     "data": {
      "text/latex": [
       "$\\displaystyle \\frac{12 M_{x} y}{5 b^{3} t}$"
      ],
      "text/plain": [
       "12*M_x*y/(5*b**3*t)"
      ]
     },
     "execution_count": 190,
     "metadata": {},
     "output_type": "execute_result"
    }
   ],
   "source": [
    "# Given the symmetry of the beam, we can calculate the sigma_z this way\n",
    "sigma_z = M_x/I_xx * y\n",
    "sigma_z"
   ]
  },
  {
   "cell_type": "markdown",
   "metadata": {},
   "source": [
    "# <center> D <center>"
   ]
  },
  {
   "cell_type": "markdown",
   "metadata": {},
   "source": [
    "The points at which the stress will be the largest are the ones with the highest y, regardless of their x positions. This means that both top corners will experience the same stress along the corners further away from the wall"
   ]
  },
  {
   "cell_type": "code",
   "execution_count": 191,
   "metadata": {},
   "outputs": [],
   "source": [
    "I_xx_1 = (1/12) * right_arm['x'] * right_arm['y']**3 + right_arm['x'] * right_arm['y'] * (right_arm['y_c'] - y_c)**2\n",
    "I_xx_2 = (1/12) * center_beam['x'] * center_beam['y']**3 + center_beam['x'] * center_beam['y'] * (center_beam['y_c'] - y_c)**2\n",
    "I_xx_3 = (1/12) * left_arm['x'] * left_arm['y']**3 + left_arm['x'] * left_arm['y'] * (left_arm['y_c'] - y_c)**2\n",
    "\n",
    "\n",
    "I_yy_1 = (1/12) * right_arm['y'] * right_arm['x']**3 + right_arm['y'] * right_arm['x'] * (right_arm['x_c'] - x_c)**2\n",
    "I_yy_2 = (1/12) * center_beam['y'] * center_beam['x']**3 + center_beam['y'] * center_beam['x'] * (center_beam['x_c'] - x_c)**2\n",
    "I_yy_3 = (1/12) * left_arm['y'] * left_arm['x']**3 + left_arm['y'] * left_arm['x'] * (left_arm['x_c'] - x_c)**2\n",
    "\n",
    "I_xy_1 = right_arm['x'] * right_arm['y'] * (right_arm['y_c'] - y_c) * (right_arm['x_c'] - x_c)\n",
    "I_xy_2 = center_beam['x'] * center_beam['y'] * (center_beam['y_c'] - y_c) * (center_beam['x_c'] - x_c)\n",
    "I_xy_3 = left_arm['x'] * left_arm['y'] * (left_arm['y_c'] - y_c) * (left_arm['x_c'] - x_c)"
   ]
  }
 ],
 "metadata": {
  "kernelspec": {
   "display_name": "Python 3",
   "language": "python",
   "name": "python3"
  },
  "language_info": {
   "codemirror_mode": {
    "name": "ipython",
    "version": 3
   },
   "file_extension": ".py",
   "mimetype": "text/x-python",
   "name": "python",
   "nbconvert_exporter": "python",
   "pygments_lexer": "ipython3",
   "version": "3.11.7"
  }
 },
 "nbformat": 4,
 "nbformat_minor": 2
}

{
 "cells": [
  {
   "cell_type": "code",
   "execution_count": 20,
   "metadata": {},
   "outputs": [
    {
     "data": {
      "text/plain": [
       "0.0125"
      ]
     },
     "execution_count": 20,
     "metadata": {},
     "output_type": "execute_result"
    }
   ],
   "source": [
    "E_L = 400 #GPa\n",
    "E_L = 400e9 #Pa\n",
    "E_T = 50 #GPa\n",
    "E_T = 50e9 #Pa\n",
    "nu_LT = 0.1\n",
    "# nu_TL = E_T/E_L*nu_LT\n",
    "nu_TL = E_T/E_L*nu_LT\n",
    "G_LT = 40 #GPa\n",
    "G_LT = 40e9 #Pa\n",
    "t = 0.1 #mm\n",
    "t = 0.1e-3 #m\n",
    "angle_list = [0, 45, -45, 90]\n",
    "repetitions = 1\n",
    "\n",
    "nu_TL"
   ]
  },
  {
   "cell_type": "code",
   "execution_count": 21,
   "metadata": {},
   "outputs": [
    {
     "data": {
      "text/plain": [
       "[[400500625782.2278, 5006257822.277847, 0],\n",
       " [5006257822.277847, 50062578222.77847, 0],\n",
       " [0, 0, 40000000000.0]]"
      ]
     },
     "metadata": {},
     "output_type": "display_data"
    },
    {
     "name": "stdout",
     "output_type": "stream",
     "text": [
      "Q_bar(0.0)\n"
     ]
    },
    {
     "data": {
      "text/latex": [
       "$\\displaystyle \\left[\\begin{matrix}400500625782.228 & 5006257822.27785 & 0\\\\5006257822.27785 & 50062578222.7785 & 0\\\\0 & 0 & 40000000000.0\\end{matrix}\\right]$"
      ],
      "text/plain": [
       "Matrix([\n",
       "[400500625782.228, 5006257822.27785,             0],\n",
       "[5006257822.27785, 50062578222.7785,             0],\n",
       "[               0,                0, 40000000000.0]])"
      ]
     },
     "metadata": {},
     "output_type": "display_data"
    },
    {
     "name": "stdout",
     "output_type": "stream",
     "text": [
      "\n",
      "Q_bar(0.7853981633974483)\n"
     ]
    },
    {
     "data": {
      "text/latex": [
       "$\\displaystyle \\left[\\begin{matrix}155143929912.391 & 75143929912.3905 & 87609511889.8623\\\\75143929912.3905 & 155143929912.39 & 87609511889.8623\\\\87609511889.8623 & 87609511889.8623 & 110137672090.113\\end{matrix}\\right]$"
      ],
      "text/plain": [
       "Matrix([\n",
       "[155143929912.391, 75143929912.3905, 87609511889.8623],\n",
       "[75143929912.3905,  155143929912.39, 87609511889.8623],\n",
       "[87609511889.8623, 87609511889.8623, 110137672090.113]])"
      ]
     },
     "metadata": {},
     "output_type": "display_data"
    },
    {
     "name": "stdout",
     "output_type": "stream",
     "text": [
      "\n",
      "Q_bar(-0.7853981633974483)\n"
     ]
    },
    {
     "data": {
      "text/latex": [
       "$\\displaystyle \\left[\\begin{matrix}155143929912.391 & 75143929912.3905 & -87609511889.8623\\\\75143929912.3905 & 155143929912.39 & -87609511889.8623\\\\-87609511889.8623 & -87609511889.8623 & 110137672090.113\\end{matrix}\\right]$"
      ],
      "text/plain": [
       "Matrix([\n",
       "[ 155143929912.391,  75143929912.3905, -87609511889.8623],\n",
       "[ 75143929912.3905,   155143929912.39, -87609511889.8623],\n",
       "[-87609511889.8623, -87609511889.8623,  110137672090.113]])"
      ]
     },
     "metadata": {},
     "output_type": "display_data"
    },
    {
     "name": "stdout",
     "output_type": "stream",
     "text": [
      "\n",
      "Q_bar(1.5707963267948966)\n"
     ]
    },
    {
     "data": {
      "text/latex": [
       "$\\displaystyle \\left[\\begin{matrix}50062578222.7785 & 5006257822.27785 & 2.13968326859788 \\cdot 10^{-6}\\\\5006257822.27785 & 400500625782.228 & 1.93184583935585 \\cdot 10^{-5}\\\\2.13968326859788 \\cdot 10^{-6} & 1.93184583935585 \\cdot 10^{-5} & 40000000000.0\\end{matrix}\\right]$"
      ],
      "text/plain": [
       "Matrix([\n",
       "[   50062578222.7785,    5006257822.27785, 2.13968326859788e-6],\n",
       "[   5006257822.27785,    400500625782.228, 1.93184583935585e-5],\n",
       "[2.13968326859788e-6, 1.93184583935585e-5,       40000000000.0]])"
      ]
     },
     "metadata": {},
     "output_type": "display_data"
    },
    {
     "name": "stdout",
     "output_type": "stream",
     "text": [
      "\n"
     ]
    },
    {
     "data": {
      "text/latex": [
       "$\\displaystyle \\left[\\begin{matrix}\\left[\\begin{matrix}400500625782.228 & 5006257822.27785 & 0.0\\end{matrix}\\right] & \\left[\\begin{matrix}5006257822.27785 & 50062578222.7785 & 0.0\\end{matrix}\\right] & \\left[\\begin{matrix}0.0 & 0.0 & 40000000000.0\\end{matrix}\\right]\\\\\\left[\\begin{matrix}155143929912.391 & 75143929912.3905 & 87609511889.8623\\end{matrix}\\right] & \\left[\\begin{matrix}75143929912.3905 & 155143929912.39 & 87609511889.8623\\end{matrix}\\right] & \\left[\\begin{matrix}87609511889.8623 & 87609511889.8623 & 110137672090.113\\end{matrix}\\right]\\\\\\left[\\begin{matrix}155143929912.391 & 75143929912.3905 & -87609511889.8623\\end{matrix}\\right] & \\left[\\begin{matrix}75143929912.3905 & 155143929912.39 & -87609511889.8623\\end{matrix}\\right] & \\left[\\begin{matrix}-87609511889.8623 & -87609511889.8623 & 110137672090.113\\end{matrix}\\right]\\\\\\left[\\begin{matrix}50062578222.7785 & 5006257822.27785 & 2.13968326859788 \\cdot 10^{-6}\\end{matrix}\\right] & \\left[\\begin{matrix}5006257822.27785 & 400500625782.228 & 1.93184583935585 \\cdot 10^{-5}\\end{matrix}\\right] & \\left[\\begin{matrix}2.13968326859788 \\cdot 10^{-6} & 1.93184583935585 \\cdot 10^{-5} & 40000000000.0\\end{matrix}\\right]\\end{matrix}\\right]$"
      ],
      "text/plain": [
       "Matrix([\n",
       "[                [400500625782.228, 5006257822.27785, 0.0],                 [5006257822.27785, 50062578222.7785, 0.0],                                 [0.0, 0.0, 40000000000.0]],\n",
       "[   [155143929912.391, 75143929912.3905, 87609511889.8623],     [75143929912.3905, 155143929912.39, 87609511889.8623],    [87609511889.8623, 87609511889.8623, 110137672090.113]],\n",
       "[  [155143929912.391, 75143929912.3905, -87609511889.8623],    [75143929912.3905, 155143929912.39, -87609511889.8623],  [-87609511889.8623, -87609511889.8623, 110137672090.113]],\n",
       "[[50062578222.7785, 5006257822.27785, 2.13968326859788e-6], [5006257822.27785, 400500625782.228, 1.93184583935585e-5], [2.13968326859788e-6, 1.93184583935585e-5, 40000000000.0]]])"
      ]
     },
     "metadata": {},
     "output_type": "display_data"
    }
   ],
   "source": [
    "#A laminate is consisting of a ply stack of [0/45/90/-45]2. Material properties of a ply is given right. The ply thickness is 0.1 mm\n",
    "#a) Calculate the A matrix, D matrix, and B matrix of this laminate.\n",
    "import numpy as np\n",
    "import sympy as sym\n",
    "import warnings\n",
    "warnings.filterwarnings(\"ignore\", category=DeprecationWarning)\n",
    "\n",
    "\n",
    "\n",
    "# Q matrix\n",
    "Q = [[E_L/(1-nu_LT*nu_TL), E_L*nu_TL/(1-nu_LT*nu_TL), 0],\n",
    "     [E_L*nu_TL/(1-nu_LT*nu_TL), E_T/(1-nu_LT*nu_TL), 0],\n",
    "     [0, 0, G_LT]]\n",
    "display(Q)\n",
    "T_sigma = lambda theta: [[np.cos(theta)**2, np.sin(theta)**2, 2*np.cos(theta)*np.sin(theta)],\n",
    "                   [np.sin(theta)**2, np.cos(theta)**2, -2*np.cos(theta)*np.sin(theta)],\n",
    "                   [-np.cos(theta)*np.sin(theta), np.cos(theta)*np.sin(theta), np.cos(theta)**2-np.sin(theta)**2]]\n",
    "T_epsilon = lambda theta: [[np.cos(theta)**2, np.sin(theta)**2, np.cos(theta)*np.sin(theta)],\n",
    "                     [np.sin(theta)**2, np.cos(theta)**2, -np.cos(theta)*np.sin(theta)],\n",
    "                     [-2*np.cos(theta)*np.sin(theta), 2*np.cos(theta)*np.sin(theta), np.cos(theta)**2-np.sin(theta)**2]]\n",
    "def Q_bar(theta):\n",
    "    T_sigma_ = T_sigma(theta)\n",
    "    T_epsilon_ = T_epsilon(theta)\n",
    "    return np.dot(np.dot(np.linalg.inv(T_sigma_), Q), T_epsilon_)\n",
    "\n",
    "# Convert to radians\n",
    "angle_list = [angle*np.pi/180 for angle in angle_list]\n",
    "Q_list = []\n",
    "for angle in angle_list:\n",
    "    print(f\"Q_bar({angle})\")\n",
    "    display(sym.Matrix(Q_bar(angle)))\n",
    "    Q_list.append(Q_bar(angle))\n",
    "    print()\n",
    "\n",
    "display(sym.Matrix(Q_list))\n"
   ]
  },
  {
   "cell_type": "code",
   "execution_count": 22,
   "metadata": {},
   "outputs": [
    {
     "name": "stdout",
     "output_type": "stream",
     "text": [
      "Q_bar(0.0)\n"
     ]
    },
    {
     "data": {
      "text/latex": [
       "$\\displaystyle \\left[\\begin{matrix}400500625782.228 & 5006257822.27785 & 0\\\\5006257822.27785 & 50062578222.7785 & 0\\\\0 & 0 & 40000000000.0\\end{matrix}\\right]$"
      ],
      "text/plain": [
       "Matrix([\n",
       "[400500625782.228, 5006257822.27785,             0],\n",
       "[5006257822.27785, 50062578222.7785,             0],\n",
       "[               0,                0, 40000000000.0]])"
      ]
     },
     "metadata": {},
     "output_type": "display_data"
    },
    {
     "name": "stdout",
     "output_type": "stream",
     "text": [
      "\n",
      "Q_bar(0.7853981633974483)\n"
     ]
    },
    {
     "data": {
      "text/latex": [
       "$\\displaystyle \\left[\\begin{matrix}155143929912.391 & 75143929912.3905 & 87609511889.8623\\\\75143929912.3905 & 155143929912.39 & 87609511889.8623\\\\87609511889.8623 & 87609511889.8623 & 110137672090.113\\end{matrix}\\right]$"
      ],
      "text/plain": [
       "Matrix([\n",
       "[155143929912.391, 75143929912.3905, 87609511889.8623],\n",
       "[75143929912.3905,  155143929912.39, 87609511889.8623],\n",
       "[87609511889.8623, 87609511889.8623, 110137672090.113]])"
      ]
     },
     "metadata": {},
     "output_type": "display_data"
    },
    {
     "name": "stdout",
     "output_type": "stream",
     "text": [
      "\n",
      "Q_bar(-0.7853981633974483)\n"
     ]
    },
    {
     "data": {
      "text/latex": [
       "$\\displaystyle \\left[\\begin{matrix}155143929912.391 & 75143929912.3905 & -87609511889.8623\\\\75143929912.3905 & 155143929912.39 & -87609511889.8623\\\\-87609511889.8623 & -87609511889.8623 & 110137672090.113\\end{matrix}\\right]$"
      ],
      "text/plain": [
       "Matrix([\n",
       "[ 155143929912.391,  75143929912.3905, -87609511889.8623],\n",
       "[ 75143929912.3905,   155143929912.39, -87609511889.8623],\n",
       "[-87609511889.8623, -87609511889.8623,  110137672090.113]])"
      ]
     },
     "metadata": {},
     "output_type": "display_data"
    },
    {
     "name": "stdout",
     "output_type": "stream",
     "text": [
      "\n",
      "Q_bar(1.5707963267948966)\n"
     ]
    },
    {
     "data": {
      "text/latex": [
       "$\\displaystyle \\left[\\begin{matrix}50062578222.7785 & 5006257822.27785 & 2.13968326859788 \\cdot 10^{-6}\\\\5006257822.27785 & 400500625782.228 & 1.93184583935585 \\cdot 10^{-5}\\\\2.13968326859788 \\cdot 10^{-6} & 1.93184583935585 \\cdot 10^{-5} & 40000000000.0\\end{matrix}\\right]$"
      ],
      "text/plain": [
       "Matrix([\n",
       "[   50062578222.7785,    5006257822.27785, 2.13968326859788e-6],\n",
       "[   5006257822.27785,    400500625782.228, 1.93184583935585e-5],\n",
       "[2.13968326859788e-6, 1.93184583935585e-5,       40000000000.0]])"
      ]
     },
     "metadata": {},
     "output_type": "display_data"
    },
    {
     "name": "stdout",
     "output_type": "stream",
     "text": [
      "\n"
     ]
    },
    {
     "data": {
      "text/latex": [
       "$\\displaystyle \\left[\\begin{matrix}0 & 0 & 0\\\\0 & 0 & 0\\\\0 & 0 & 0\\end{matrix}\\right]$"
      ],
      "text/plain": [
       "Matrix([\n",
       "[0, 0, 0],\n",
       "[0, 0, 0],\n",
       "[0, 0, 0]])"
      ]
     },
     "metadata": {},
     "output_type": "display_data"
    },
    {
     "data": {
      "text/latex": [
       "$\\displaystyle \\left[\\begin{matrix}12601551939924.9 & 1429319983312.47 & 700876095118.899\\\\1429319983312.47 & 4191038798498.12 & 700876095118.899\\\\700876095118.898 & 700876095118.898 & 2922386316228.62\\end{matrix}\\right]$"
      ],
      "text/plain": [
       "Matrix([\n",
       "[12601551939924.9, 1429319983312.47, 700876095118.899],\n",
       "[1429319983312.47, 4191038798498.12, 700876095118.899],\n",
       "[700876095118.898, 700876095118.898, 2922386316228.62]])"
      ]
     },
     "metadata": {},
     "output_type": "display_data"
    }
   ],
   "source": [
    "Q_list = []\n",
    "for angle in angle_list:\n",
    "    print(f\"Q_bar({angle})\")\n",
    "    display(sym.Matrix(Q_bar(angle)))\n",
    "    Q_list.append(Q_bar(angle))\n",
    "    print()\n",
    "\n",
    "def BD_func(symmetric=False, repetitions=1, t=1):\n",
    "    D = 0\n",
    "    B = 0\n",
    "    m=0\n",
    "    if not symmetric:\n",
    "        for i in np.arange(repetitions/2 * len(angle_list), -repetitions/2 * len(angle_list), -1):\n",
    "            B += ((t*i)**2-(t*(i-1))**2)/2 * Q_list[m]\n",
    "            D += ((t*i)**3-(t*(i-1))**3)/3 * Q_list[m]\n",
    "            m += 1\n",
    "            if m == len(angle_list):\n",
    "                m = 0\n",
    "        \n",
    "    if symmetric:\n",
    "        B = np.zeros((3, 3))\n",
    "        repetitions = repetitions*2\n",
    "        for i in np.arange(len(angle_list), 0, -1):\n",
    "            D += ((t*i)**3-(t*(i-1))**3)/3 * Q_list[m]\n",
    "            m += 1\n",
    "            if m == len(angle_list):\n",
    "                m = 0\n",
    "\n",
    "        if m == 0:\n",
    "                m = len(angle_list)-1\n",
    "                \n",
    "        for i in np.arange(0, -len(angle_list), -1):\n",
    "            D += ((t*i)**3-(t*(i-1))**3)/3 * Q_list[m]\n",
    "            m -= 1\n",
    "            if m == -len(angle_list):\n",
    "                m = 0\n",
    "                \n",
    "    return B, D\n",
    "\n",
    "B, D = BD_func(symmetric=True, repetitions=1, t=1)\n",
    "display(sym.Matrix(B))\n",
    "display(sym.Matrix(D))"
   ]
  },
  {
   "cell_type": "code",
   "execution_count": 23,
   "metadata": {},
   "outputs": [
    {
     "data": {
      "text/latex": [
       "$\\displaystyle \\left[\\begin{matrix}152170212.765957 & 32060075.0938673 & 4.27936653719576 \\cdot 10^{-10}\\\\32060075.0938673 & 152170212.765957 & 3.8636916787117 \\cdot 10^{-9}\\\\4.27936653719576 \\cdot 10^{-10} & 3.8636916787117 \\cdot 10^{-9} & 60055068.8360451\\end{matrix}\\right]$"
      ],
      "text/plain": [
       "Matrix([\n",
       "[    152170212.765957,   32060075.0938673, 4.27936653719576e-10],\n",
       "[    32060075.0938673,   152170212.765957,   3.8636916787117e-9],\n",
       "[4.27936653719576e-10, 3.8636916787117e-9,     60055068.8360451]])"
      ]
     },
     "metadata": {},
     "output_type": "display_data"
    }
   ],
   "source": [
    "# A matrix\n",
    "A = 2*t*(sum(Q_list))\n",
    "display(sym.Matrix(A))"
   ]
  }
 ],
 "metadata": {
  "kernelspec": {
   "display_name": "Python 3",
   "language": "python",
   "name": "python3"
  },
  "language_info": {
   "codemirror_mode": {
    "name": "ipython",
    "version": 3
   },
   "file_extension": ".py",
   "mimetype": "text/x-python",
   "name": "python",
   "nbconvert_exporter": "python",
   "pygments_lexer": "ipython3",
   "version": "3.12.2"
  }
 },
 "nbformat": 4,
 "nbformat_minor": 2
}

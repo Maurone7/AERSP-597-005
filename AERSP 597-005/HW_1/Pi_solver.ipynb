{
 "cells": [
  {
   "cell_type": "code",
   "execution_count": 158,
   "metadata": {},
   "outputs": [
    {
     "data": {
      "text/latex": [
       "$\\displaystyle \\left[\\begin{matrix}\\frac{\\pi^{2} C_{1} z \\sin{\\left(\\frac{\\pi x}{L} \\right)} \\sin{\\left(\\frac{\\pi y}{L} \\right)}}{L^{2}} + C_{2}\\\\\\frac{\\pi^{2} C_{1} z \\sin{\\left(\\frac{\\pi x}{L} \\right)} \\sin{\\left(\\frac{\\pi y}{L} \\right)}}{L^{2}}\\\\- \\frac{2 \\pi^{2} C_{1} z \\cos{\\left(\\frac{\\pi x}{L} \\right)} \\cos{\\left(\\frac{\\pi y}{L} \\right)}}{L^{2}}\\end{matrix}\\right]$"
      ],
      "text/plain": [
       "Matrix([\n",
       "[pi**2*C_1*z*sin(pi*x/L)*sin(pi*y/L)/L**2 + C_2],\n",
       "[      pi**2*C_1*z*sin(pi*x/L)*sin(pi*y/L)/L**2],\n",
       "[   -2*pi**2*C_1*z*cos(pi*x/L)*cos(pi*y/L)/L**2]])"
      ]
     },
     "execution_count": 158,
     "metadata": {},
     "output_type": "execute_result"
    }
   ],
   "source": [
    "# Importing necessary libraries\n",
    "import sympy as sym\n",
    "\n",
    "# Defining symbols\n",
    "x, y, z = sym.symbols('x y z')\n",
    "C_1, C_2, C_3 = sym.symbols('C_1 C_2 C_3')\n",
    "E, v = sym.symbols('E v')\n",
    "L, t = sym.symbols('L t')\n",
    "p_0, sigma_0 = sym.symbols('p_0 sigma_0')\n",
    "P_0 = p_0*(x-L/2)\n",
    "x_0, x_max = 0, L\n",
    "y_0, y_max = 0, L\n",
    "z_0, z_max = -t/2, t/2\n",
    "sigma_x, sigma_y, tau_xy = sigma_0, 0, 0\n",
    "\n",
    "# Defining displacement function\n",
    "w = C_1*sym.sin(sym.pi*x/L)*sym.sin(sym.pi*y/L)\n",
    "u = C_2*x\n",
    "v_y = 0\n",
    "\n",
    "# Calculating stress tensor\n",
    "tilde_sigma = sym.Matrix([sym.diff(u, x), sym.diff(v_y, y), sym.diff(u, y)*sym.diff(v, x)]) - z*sym.Matrix([sym.diff(sym.diff(w, x), x), sym.diff(sym.diff(w, y), y), 2*sym.diff(sym.diff(w, x), y)])\n",
    "sym.Matrix([sym.diff(u, x), sym.diff(v_y, y), sym.diff(u, y)*sym.diff(v, x)]) - z*sym.Matrix([sym.diff(sym.diff(w, x), x), sym.diff(sym.diff(w, y), y), 2*sym.diff(sym.diff(w, x), y)])"
   ]
  },
  {
   "cell_type": "code",
   "execution_count": 159,
   "metadata": {},
   "outputs": [
    {
     "data": {
      "text/latex": [
       "$\\displaystyle \\left[\\begin{matrix}\\frac{E}{1 - v^{2}} & \\frac{E v}{1 - v^{2}} & 0\\\\\\frac{E v}{1 - v^{2}} & \\frac{E}{1 - v^{2}} & 0\\\\0 & 0 & \\frac{E}{2 v + 2}\\end{matrix}\\right]$"
      ],
      "text/plain": [
       "Matrix([\n",
       "[  E/(1 - v**2), E*v/(1 - v**2),           0],\n",
       "[E*v/(1 - v**2),   E/(1 - v**2),           0],\n",
       "[             0,              0, E/(2*v + 2)]])"
      ]
     },
     "execution_count": 159,
     "metadata": {},
     "output_type": "execute_result"
    }
   ],
   "source": [
    "# Defining compliance matrix\n",
    "compliance_matrix = sym.Matrix([[E/(1-v**2), v*E/(1-v**2), 0],[v*E/(1-v**2), E/(1-v**2), 0],[0, 0, E/(2*(1+v))]])\n",
    "compliance_matrix"
   ]
  },
  {
   "cell_type": "code",
   "execution_count": 160,
   "metadata": {},
   "outputs": [
    {
     "data": {
      "text/latex": [
       "$\\displaystyle \\left[\\begin{matrix}\\frac{\\pi^{2} C_{1} E v z \\sin{\\left(\\frac{\\pi x}{L} \\right)} \\sin{\\left(\\frac{\\pi y}{L} \\right)}}{L^{2} \\cdot \\left(1 - v^{2}\\right)} + \\frac{E \\left(\\frac{\\pi^{2} C_{1} z \\sin{\\left(\\frac{\\pi x}{L} \\right)} \\sin{\\left(\\frac{\\pi y}{L} \\right)}}{L^{2}} + C_{2}\\right)}{1 - v^{2}}\\\\\\frac{\\pi^{2} C_{1} E z \\sin{\\left(\\frac{\\pi x}{L} \\right)} \\sin{\\left(\\frac{\\pi y}{L} \\right)}}{L^{2} \\cdot \\left(1 - v^{2}\\right)} + \\frac{E v \\left(\\frac{\\pi^{2} C_{1} z \\sin{\\left(\\frac{\\pi x}{L} \\right)} \\sin{\\left(\\frac{\\pi y}{L} \\right)}}{L^{2}} + C_{2}\\right)}{1 - v^{2}}\\\\- \\frac{2 \\pi^{2} C_{1} E z \\cos{\\left(\\frac{\\pi x}{L} \\right)} \\cos{\\left(\\frac{\\pi y}{L} \\right)}}{L^{2} \\cdot \\left(2 v + 2\\right)}\\end{matrix}\\right]$"
      ],
      "text/plain": [
       "Matrix([\n",
       "[pi**2*C_1*E*v*z*sin(pi*x/L)*sin(pi*y/L)/(L**2*(1 - v**2)) + E*(pi**2*C_1*z*sin(pi*x/L)*sin(pi*y/L)/L**2 + C_2)/(1 - v**2)],\n",
       "[pi**2*C_1*E*z*sin(pi*x/L)*sin(pi*y/L)/(L**2*(1 - v**2)) + E*v*(pi**2*C_1*z*sin(pi*x/L)*sin(pi*y/L)/L**2 + C_2)/(1 - v**2)],\n",
       "[                                                                -2*pi**2*C_1*E*z*cos(pi*x/L)*cos(pi*y/L)/(L**2*(2*v + 2))]])"
      ]
     },
     "execution_count": 160,
     "metadata": {},
     "output_type": "execute_result"
    }
   ],
   "source": [
    "# Calculating stress matrix\n",
    "stress = compliance_matrix*tilde_sigma\n",
    "stress"
   ]
  },
  {
   "cell_type": "code",
   "execution_count": 161,
   "metadata": {},
   "outputs": [
    {
     "data": {
      "text/latex": [
       "$\\displaystyle \\left[\\begin{matrix}\\frac{4 \\pi^{4} C_{1}^{2} E z^{2} \\cos^{2}{\\left(\\frac{\\pi x}{L} \\right)} \\cos^{2}{\\left(\\frac{\\pi y}{L} \\right)}}{L^{4} \\cdot \\left(2 v + 2\\right)} + \\frac{\\pi^{2} C_{1} z \\left(\\frac{\\pi^{2} C_{1} E z \\sin{\\left(\\frac{\\pi x}{L} \\right)} \\sin{\\left(\\frac{\\pi y}{L} \\right)}}{L^{2} \\cdot \\left(1 - v^{2}\\right)} + \\frac{E v \\left(\\frac{\\pi^{2} C_{1} z \\sin{\\left(\\frac{\\pi x}{L} \\right)} \\sin{\\left(\\frac{\\pi y}{L} \\right)}}{L^{2}} + C_{2}\\right)}{1 - v^{2}}\\right) \\sin{\\left(\\frac{\\pi x}{L} \\right)} \\sin{\\left(\\frac{\\pi y}{L} \\right)}}{L^{2}} + \\left(\\frac{\\pi^{2} C_{1} z \\sin{\\left(\\frac{\\pi x}{L} \\right)} \\sin{\\left(\\frac{\\pi y}{L} \\right)}}{L^{2}} + C_{2}\\right) \\left(\\frac{\\pi^{2} C_{1} E v z \\sin{\\left(\\frac{\\pi x}{L} \\right)} \\sin{\\left(\\frac{\\pi y}{L} \\right)}}{L^{2} \\cdot \\left(1 - v^{2}\\right)} + \\frac{E \\left(\\frac{\\pi^{2} C_{1} z \\sin{\\left(\\frac{\\pi x}{L} \\right)} \\sin{\\left(\\frac{\\pi y}{L} \\right)}}{L^{2}} + C_{2}\\right)}{1 - v^{2}}\\right)\\end{matrix}\\right]$"
      ],
      "text/plain": [
       "Matrix([[4*pi**4*C_1**2*E*z**2*cos(pi*x/L)**2*cos(pi*y/L)**2/(L**4*(2*v + 2)) + pi**2*C_1*z*(pi**2*C_1*E*z*sin(pi*x/L)*sin(pi*y/L)/(L**2*(1 - v**2)) + E*v*(pi**2*C_1*z*sin(pi*x/L)*sin(pi*y/L)/L**2 + C_2)/(1 - v**2))*sin(pi*x/L)*sin(pi*y/L)/L**2 + (pi**2*C_1*z*sin(pi*x/L)*sin(pi*y/L)/L**2 + C_2)*(pi**2*C_1*E*v*z*sin(pi*x/L)*sin(pi*y/L)/(L**2*(1 - v**2)) + E*(pi**2*C_1*z*sin(pi*x/L)*sin(pi*y/L)/L**2 + C_2)/(1 - v**2))]])"
      ]
     },
     "execution_count": 161,
     "metadata": {},
     "output_type": "execute_result"
    }
   ],
   "source": [
    "# Calculating the inside of the integral\n",
    "inside_of_integral = sym.Transpose(tilde_sigma)*stress\n",
    "inside_of_integral"
   ]
  },
  {
   "cell_type": "code",
   "execution_count": 162,
   "metadata": {},
   "outputs": [
    {
     "data": {
      "text/latex": [
       "$\\displaystyle \\begin{cases} \\left[\\begin{matrix}\\frac{0.0104166666666667 E t \\left(- 4.0 \\pi^{4} C_{1}^{2} t^{2} - 48.0 C_{2}^{2} L^{4}\\right)}{L^{2} \\left(v^{2} - 1\\right)}\\end{matrix}\\right] & \\text{for}\\: \\left(L > -\\infty \\vee L > 0\\right) \\wedge \\left(L > -\\infty \\vee L < \\infty\\right) \\wedge \\left(L > 0 \\vee L < 0\\right) \\wedge \\left(L < 0 \\vee L < \\infty\\right) \\\\\\left[\\begin{matrix}\\frac{0.00520833333333333 E t \\left(\\pi^{4} C_{1}^{2} t^{2} \\cdot \\left(14.0 v - 18.0\\right) - 96.0 C_{2}^{2} L^{4}\\right)}{L^{2} \\left(v^{2} - 1\\right)}\\end{matrix}\\right] & \\text{otherwise} \\end{cases}$"
      ],
      "text/plain": [
       "Piecewise((Matrix([[0.0104166666666667*E*t*(-4.0*pi**4*C_1**2*t**2 - 48.0*C_2**2*L**4)/(L**2*(v**2 - 1))]]), ((L > -oo) | (L > 0)) & ((L > -oo) | (L < oo)) & ((L > 0) | (L < 0)) & ((L < 0) | (L < oo))), (Matrix([[0.00520833333333333*E*t*(pi**4*C_1**2*t**2*(14.0*v - 18.0) - 96.0*C_2**2*L**4)/(L**2*(v**2 - 1))]]), True))"
      ]
     },
     "execution_count": 162,
     "metadata": {},
     "output_type": "execute_result"
    }
   ],
   "source": [
    "strain_energy = sym.simplify(sym.integrate(sym.integrate(sym.integrate(1/2 * inside_of_integral, (x, x_0, x_max)), (y, y_0, y_max)), (z, z_0, z_max)))\n",
    "strain_energy"
   ]
  },
  {
   "cell_type": "code",
   "execution_count": 163,
   "metadata": {},
   "outputs": [
    {
     "name": "stdout",
     "output_type": "stream",
     "text": [
      "\\left[\\begin{matrix}\\sigma_{0} t\\\\0\\\\0\\end{matrix}\\right]\n"
     ]
    },
    {
     "data": {
      "text/latex": [
       "$\\displaystyle \\left[\\begin{matrix}\\sigma_{0} t\\\\0\\\\0\\end{matrix}\\right]$"
      ],
      "text/plain": [
       "Matrix([\n",
       "[sigma_0*t],\n",
       "[        0],\n",
       "[        0]])"
      ]
     },
     "execution_count": 163,
     "metadata": {},
     "output_type": "execute_result"
    }
   ],
   "source": [
    "sigma_matrix = sym.Matrix([sigma_x, sigma_y, tau_xy])\n",
    "N_x = sym.integrate(sigma_x, (z, z_0, z_max))\n",
    "N_y = sym.integrate(sigma_y, (y, y_0, y_max))\n",
    "N_xy = sym.integrate(tau_xy, (x, x_0, x_max), (y, y_0, y_max))\n",
    "N_matrix = sym.Matrix([N_x, N_y, N_xy])\n",
    "print(sym.latex(N_matrix))\n",
    "N_matrix"
   ]
  },
  {
   "cell_type": "code",
   "execution_count": 164,
   "metadata": {},
   "outputs": [
    {
     "data": {
      "text/latex": [
       "$\\displaystyle p_{0} \\left(- \\frac{L}{2} + x\\right)$"
      ],
      "text/plain": [
       "p_0*(-L/2 + x)"
      ]
     },
     "execution_count": 164,
     "metadata": {},
     "output_type": "execute_result"
    }
   ],
   "source": [
    "p_0, sigma_0 = sym.symbols('p_0 sigma_0')\n",
    "P_0 = p_0*(x-L/2)\n",
    "P_0\n"
   ]
  },
  {
   "cell_type": "code",
   "execution_count": 165,
   "metadata": {},
   "outputs": [
    {
     "data": {
      "text/latex": [
       "$\\displaystyle \\begin{cases} \\frac{C_{1} \\cdot \\left(0.125 \\pi^{5} C_{1} \\sigma_{0} t - L^{3} p_{0} \\cdot \\left(2 - \\pi\\right)\\right)}{\\pi^{3}} & \\text{for}\\: \\left(L > -\\infty \\vee L > 0\\right) \\wedge \\left(L > -\\infty \\vee L < \\infty\\right) \\wedge \\left(L > 0 \\vee L < 0\\right) \\wedge \\left(L < 0 \\vee L < \\infty\\right) \\\\0 & \\text{otherwise} \\end{cases}$"
      ],
      "text/plain": [
       "Piecewise((C_1*(0.125*pi**5*C_1*sigma_0*t - L**3*p_0*(2 - pi))/pi**3, ((L > -oo) | (L > 0)) & ((L > -oo) | (L < oo)) & ((L > 0) | (L < 0)) & ((L < 0) | (L < oo))), (0, True))"
      ]
     },
     "execution_count": 165,
     "metadata": {},
     "output_type": "execute_result"
    }
   ],
   "source": [
    "work = sym.integrate(sym.integrate(P_0 * w, (x, L/2, x_max)), (y, y_0, y_max)) + 1/2*sigma_0*t*sym.integrate(sym.integrate(sym.diff(w, x)**2, (x, x_0, x_max)), (y, y_0, y_max))\n",
    "sym.simplify(work)"
   ]
  },
  {
   "cell_type": "code",
   "execution_count": 166,
   "metadata": {},
   "outputs": [
    {
     "data": {
      "text/latex": [
       "$\\displaystyle 0.5 \\left(\\begin{cases} \\frac{\\pi^{2} C_{1}^{2} \\sigma_{0} t}{4} & \\text{for}\\: L > -\\infty \\wedge L < \\infty \\wedge L \\neq 0 \\\\0 & \\text{otherwise} \\end{cases}\\right)$"
      ],
      "text/plain": [
       "0.5*Piecewise((pi**2*C_1**2*sigma_0*t/4, (L > -oo) & (L < oo) & Ne(L, 0)), (0, True))"
      ]
     },
     "execution_count": 166,
     "metadata": {},
     "output_type": "execute_result"
    }
   ],
   "source": [
    "def stress_work(N_x, N_y, N_xy, w):\n",
    "    work = 1/2 * sym.integrate(sym.integrate(N_x*sym.diff(w,x)**2+N_y*sym.diff(w, y)**2+2*N_xy*sym.diff(w,x)*sym.diff(w,y), (x, x_0, x_max)), (y, y_0, y_max))\n",
    "    return work\n",
    "\n",
    "stress_w = stress_work(N_x, N_y, N_xy, w)\n",
    "stress_w"
   ]
  },
  {
   "cell_type": "code",
   "execution_count": 167,
   "metadata": {},
   "outputs": [
    {
     "data": {
      "text/latex": [
       "$\\displaystyle \\begin{cases} \\frac{C_{1} L^{3} p_{0} \\left(-2 + \\pi\\right)}{\\pi^{3}} & \\text{for}\\: \\left(L > -\\infty \\vee L > 0\\right) \\wedge \\left(L > -\\infty \\vee L < \\infty\\right) \\wedge \\left(L > 0 \\vee L < 0\\right) \\wedge \\left(L < 0 \\vee L < \\infty\\right) \\\\0 & \\text{otherwise} \\end{cases}$"
      ],
      "text/plain": [
       "Piecewise((C_1*L**3*p_0*(-2 + pi)/pi**3, ((L > -oo) | (L > 0)) & ((L > -oo) | (L < oo)) & ((L > 0) | (L < 0)) & ((L < 0) | (L < oo))), (0, True))"
      ]
     },
     "execution_count": 167,
     "metadata": {},
     "output_type": "execute_result"
    }
   ],
   "source": [
    "def strain_work(w, p):\n",
    "    work = sym.integrate(sym.integrate(P_0*w, (x, L/2, x_max)), (y, y_0, y_max))\n",
    "    return work\n",
    "\n",
    "strain_w = strain_work(w, P_0)\n",
    "total_work = strain_w + stress_w\n",
    "total_work = sym.simplify(total_work)\n",
    "sym.simplify(strain_w)"
   ]
  },
  {
   "cell_type": "code",
   "execution_count": 168,
   "metadata": {},
   "outputs": [
    {
     "data": {
      "text/latex": [
       "$\\displaystyle - \\begin{cases} \\frac{C_{1} \\cdot \\left(0.125 \\pi^{5} C_{1} \\sigma_{0} t - L^{3} p_{0} \\cdot \\left(2 - \\pi\\right)\\right)}{\\pi^{3}} & \\text{for}\\: \\left(L > -\\infty \\vee L > 0\\right) \\wedge \\left(L > -\\infty \\vee L < \\infty\\right) \\wedge \\left(L > 0 \\vee L < 0\\right) \\wedge \\left(L < 0 \\vee L < \\infty\\right) \\\\0 & \\text{otherwise} \\end{cases} + \\begin{cases} \\left[\\begin{matrix}\\frac{0.0104166666666667 E t \\left(- 4.0 \\pi^{4} C_{1}^{2} t^{2} - 48.0 C_{2}^{2} L^{4}\\right)}{L^{2} \\left(v^{2} - 1\\right)}\\end{matrix}\\right] & \\text{for}\\: \\left(L > -\\infty \\vee L > 0\\right) \\wedge \\left(L > -\\infty \\vee L < \\infty\\right) \\wedge \\left(L > 0 \\vee L < 0\\right) \\wedge \\left(L < 0 \\vee L < \\infty\\right) \\\\\\left[\\begin{matrix}\\frac{0.00520833333333333 E t \\left(\\pi^{4} C_{1}^{2} t^{2} \\cdot \\left(14.0 v - 18.0\\right) - 96.0 C_{2}^{2} L^{4}\\right)}{L^{2} \\left(v^{2} - 1\\right)}\\end{matrix}\\right] & \\text{otherwise} \\end{cases}$"
      ],
      "text/plain": [
       "-Piecewise((C_1*(0.125*pi**5*C_1*sigma_0*t - L**3*p_0*(2 - pi))/pi**3, ((L > -oo) | (L > 0)) & ((L > -oo) | (L < oo)) & ((L > 0) | (L < 0)) & ((L < 0) | (L < oo))), (0, True)) + Piecewise((Matrix([[0.0104166666666667*E*t*(-4.0*pi**4*C_1**2*t**2 - 48.0*C_2**2*L**4)/(L**2*(v**2 - 1))]]), ((L > -oo) | (L > 0)) & ((L > -oo) | (L < oo)) & ((L > 0) | (L < 0)) & ((L < 0) | (L < oo))), (Matrix([[0.00520833333333333*E*t*(pi**4*C_1**2*t**2*(14.0*v - 18.0) - 96.0*C_2**2*L**4)/(L**2*(v**2 - 1))]]), True))"
      ]
     },
     "execution_count": 168,
     "metadata": {},
     "output_type": "execute_result"
    }
   ],
   "source": [
    "pi = strain_energy - total_work\n",
    "pi"
   ]
  },
  {
   "cell_type": "code",
   "execution_count": 169,
   "metadata": {},
   "outputs": [
    {
     "ename": "TypeError",
     "evalue": "cannot add <class 'sympy.matrices.immutable.ImmutableDenseMatrix'> and <class 'int'>",
     "output_type": "error",
     "traceback": [
      "\u001b[0;31m---------------------------------------------------------------------------\u001b[0m",
      "\u001b[0;31mTypeError\u001b[0m                                 Traceback (most recent call last)",
      "Cell \u001b[0;32mIn[169], line 2\u001b[0m\n\u001b[1;32m      1\u001b[0m dPi_dc1 \u001b[38;5;241m=\u001b[39m sym\u001b[38;5;241m.\u001b[39mdiff(pi, C_1)\n\u001b[0;32m----> 2\u001b[0m \u001b[43msym\u001b[49m\u001b[38;5;241;43m.\u001b[39;49m\u001b[43msolve\u001b[49m\u001b[43m(\u001b[49m\u001b[43mdPi_dc1\u001b[49m\u001b[43m,\u001b[49m\u001b[43m \u001b[49m\u001b[43mC_1\u001b[49m\u001b[43m)\u001b[49m\n",
      "File \u001b[0;32m/opt/homebrew/lib/python3.11/site-packages/sympy/solvers/solvers.py:1145\u001b[0m, in \u001b[0;36msolve\u001b[0;34m(f, *symbols, **flags)\u001b[0m\n\u001b[1;32m   1143\u001b[0m         solution \u001b[38;5;241m=\u001b[39m _solve_undetermined(f[\u001b[38;5;241m0\u001b[39m], symbols, flags)\n\u001b[1;32m   1144\u001b[0m     \u001b[38;5;28;01mif\u001b[39;00m \u001b[38;5;129;01mnot\u001b[39;00m solution:\n\u001b[0;32m-> 1145\u001b[0m         solution \u001b[38;5;241m=\u001b[39m \u001b[43m_solve\u001b[49m\u001b[43m(\u001b[49m\u001b[43mf\u001b[49m\u001b[43m[\u001b[49m\u001b[38;5;241;43m0\u001b[39;49m\u001b[43m]\u001b[49m\u001b[43m,\u001b[49m\u001b[43m \u001b[49m\u001b[38;5;241;43m*\u001b[39;49m\u001b[43msymbols\u001b[49m\u001b[43m,\u001b[49m\u001b[43m \u001b[49m\u001b[38;5;241;43m*\u001b[39;49m\u001b[38;5;241;43m*\u001b[39;49m\u001b[43mflags\u001b[49m\u001b[43m)\u001b[49m\n\u001b[1;32m   1146\u001b[0m \u001b[38;5;28;01melse\u001b[39;00m:\n\u001b[1;32m   1147\u001b[0m     linear, solution \u001b[38;5;241m=\u001b[39m _solve_system(f, symbols, \u001b[38;5;241m*\u001b[39m\u001b[38;5;241m*\u001b[39mflags)\n",
      "File \u001b[0;32m/opt/homebrew/lib/python3.11/site-packages/sympy/solvers/solvers.py:1396\u001b[0m, in \u001b[0;36m_solve\u001b[0;34m(f, *symbols, **flags)\u001b[0m\n\u001b[1;32m   1393\u001b[0m \u001b[38;5;28;01mif\u001b[39;00m expr\u001b[38;5;241m.\u001b[39mis_zero:\n\u001b[1;32m   1394\u001b[0m     \u001b[38;5;28;01mraise\u001b[39;00m \u001b[38;5;167;01mNotImplementedError\u001b[39;00m(\n\u001b[1;32m   1395\u001b[0m         \u001b[38;5;124m'\u001b[39m\u001b[38;5;124msolve cannot represent interval solutions\u001b[39m\u001b[38;5;124m'\u001b[39m)\n\u001b[0;32m-> 1396\u001b[0m candidates \u001b[38;5;241m=\u001b[39m \u001b[43m_vsolve\u001b[49m\u001b[43m(\u001b[49m\u001b[43mexpr\u001b[49m\u001b[43m,\u001b[49m\u001b[43m \u001b[49m\u001b[43msymbol\u001b[49m\u001b[43m,\u001b[49m\u001b[43m \u001b[49m\u001b[38;5;241;43m*\u001b[39;49m\u001b[38;5;241;43m*\u001b[39;49m\u001b[43mflags\u001b[49m\u001b[43m)\u001b[49m\n\u001b[1;32m   1397\u001b[0m \u001b[38;5;66;03m# the explicit condition for this expr is the current cond\u001b[39;00m\n\u001b[1;32m   1398\u001b[0m \u001b[38;5;66;03m# and none of the previous conditions\u001b[39;00m\n\u001b[1;32m   1399\u001b[0m args \u001b[38;5;241m=\u001b[39m [\u001b[38;5;241m~\u001b[39mc \u001b[38;5;28;01mfor\u001b[39;00m _, c \u001b[38;5;129;01min\u001b[39;00m f\u001b[38;5;241m.\u001b[39margs[:i]] \u001b[38;5;241m+\u001b[39m [cond]\n",
      "File \u001b[0;32m/opt/homebrew/lib/python3.11/site-packages/sympy/solvers/solvers.py:2606\u001b[0m, in \u001b[0;36m_vsolve\u001b[0;34m(e, s, **flags)\u001b[0m\n\u001b[1;32m   2604\u001b[0m \u001b[38;5;28;01mdef\u001b[39;00m \u001b[38;5;21m_vsolve\u001b[39m(e, s, \u001b[38;5;241m*\u001b[39m\u001b[38;5;241m*\u001b[39mflags):\n\u001b[1;32m   2605\u001b[0m \u001b[38;5;250m    \u001b[39m\u001b[38;5;124;03m\"\"\"return list of scalar values for the solution of e for symbol s\"\"\"\u001b[39;00m\n\u001b[0;32m-> 2606\u001b[0m     \u001b[38;5;28;01mreturn\u001b[39;00m [i[s] \u001b[38;5;28;01mfor\u001b[39;00m i \u001b[38;5;129;01min\u001b[39;00m \u001b[43m_solve\u001b[49m\u001b[43m(\u001b[49m\u001b[43me\u001b[49m\u001b[43m,\u001b[49m\u001b[43m \u001b[49m\u001b[43ms\u001b[49m\u001b[43m,\u001b[49m\u001b[43m \u001b[49m\u001b[38;5;241;43m*\u001b[39;49m\u001b[38;5;241;43m*\u001b[39;49m\u001b[43mflags\u001b[49m\u001b[43m)\u001b[49m]\n",
      "File \u001b[0;32m/opt/homebrew/lib/python3.11/site-packages/sympy/solvers/solvers.py:1428\u001b[0m, in \u001b[0;36m_solve\u001b[0;34m(f, *symbols, **flags)\u001b[0m\n\u001b[1;32m   1424\u001b[0m     \u001b[38;5;28;01mreturn\u001b[39;00m [{symbol: r} \u001b[38;5;28;01mfor\u001b[39;00m r \u001b[38;5;129;01min\u001b[39;00m result]\n\u001b[1;32m   1425\u001b[0m \u001b[38;5;28;01melse\u001b[39;00m:\n\u001b[1;32m   1426\u001b[0m     \u001b[38;5;66;03m# first see if it really depends on symbol and whether there\u001b[39;00m\n\u001b[1;32m   1427\u001b[0m     \u001b[38;5;66;03m# is only a linear solution\u001b[39;00m\n\u001b[0;32m-> 1428\u001b[0m     f_num, sol \u001b[38;5;241m=\u001b[39m \u001b[43msolve_linear\u001b[49m\u001b[43m(\u001b[49m\u001b[43mf\u001b[49m\u001b[43m,\u001b[49m\u001b[43m \u001b[49m\u001b[43msymbols\u001b[49m\u001b[38;5;241;43m=\u001b[39;49m\u001b[43msymbols\u001b[49m\u001b[43m)\u001b[49m\n\u001b[1;32m   1429\u001b[0m     \u001b[38;5;28;01mif\u001b[39;00m f_num\u001b[38;5;241m.\u001b[39mis_zero \u001b[38;5;129;01mor\u001b[39;00m sol \u001b[38;5;129;01mis\u001b[39;00m S\u001b[38;5;241m.\u001b[39mNaN:\n\u001b[1;32m   1430\u001b[0m         \u001b[38;5;28;01mreturn\u001b[39;00m []\n",
      "File \u001b[0;32m/opt/homebrew/lib/python3.11/site-packages/sympy/solvers/solvers.py:2113\u001b[0m, in \u001b[0;36msolve_linear\u001b[0;34m(lhs, rhs, symbols, exclude)\u001b[0m\n\u001b[1;32m   2111\u001b[0m     lhs \u001b[38;5;241m=\u001b[39m lhs\u001b[38;5;241m.\u001b[39mlhs\n\u001b[1;32m   2112\u001b[0m dens \u001b[38;5;241m=\u001b[39m \u001b[38;5;28;01mNone\u001b[39;00m\n\u001b[0;32m-> 2113\u001b[0m eq \u001b[38;5;241m=\u001b[39m \u001b[43mlhs\u001b[49m\u001b[43m \u001b[49m\u001b[38;5;241;43m-\u001b[39;49m\u001b[43m \u001b[49m\u001b[43mrhs\u001b[49m\n\u001b[1;32m   2114\u001b[0m n, d \u001b[38;5;241m=\u001b[39m eq\u001b[38;5;241m.\u001b[39mas_numer_denom()\n\u001b[1;32m   2115\u001b[0m \u001b[38;5;28;01mif\u001b[39;00m \u001b[38;5;129;01mnot\u001b[39;00m n:\n",
      "File \u001b[0;32m/opt/homebrew/lib/python3.11/site-packages/sympy/core/decorators.py:106\u001b[0m, in \u001b[0;36mcall_highest_priority.<locals>.priority_decorator.<locals>.binary_op_wrapper\u001b[0;34m(self, other)\u001b[0m\n\u001b[1;32m    104\u001b[0m         \u001b[38;5;28;01mif\u001b[39;00m f \u001b[38;5;129;01mis\u001b[39;00m \u001b[38;5;129;01mnot\u001b[39;00m \u001b[38;5;28;01mNone\u001b[39;00m:\n\u001b[1;32m    105\u001b[0m             \u001b[38;5;28;01mreturn\u001b[39;00m f(\u001b[38;5;28mself\u001b[39m)\n\u001b[0;32m--> 106\u001b[0m \u001b[38;5;28;01mreturn\u001b[39;00m \u001b[43mfunc\u001b[49m\u001b[43m(\u001b[49m\u001b[38;5;28;43mself\u001b[39;49m\u001b[43m,\u001b[49m\u001b[43m \u001b[49m\u001b[43mother\u001b[49m\u001b[43m)\u001b[49m\n",
      "File \u001b[0;32m/opt/homebrew/lib/python3.11/site-packages/sympy/matrices/common.py:2937\u001b[0m, in \u001b[0;36mMatrixArithmetic.__sub__\u001b[0;34m(self, a)\u001b[0m\n\u001b[1;32m   2935\u001b[0m \u001b[38;5;129m@call_highest_priority\u001b[39m(\u001b[38;5;124m'\u001b[39m\u001b[38;5;124m__rsub__\u001b[39m\u001b[38;5;124m'\u001b[39m)\n\u001b[1;32m   2936\u001b[0m \u001b[38;5;28;01mdef\u001b[39;00m \u001b[38;5;21m__sub__\u001b[39m(\u001b[38;5;28mself\u001b[39m, a):\n\u001b[0;32m-> 2937\u001b[0m     \u001b[38;5;28;01mreturn\u001b[39;00m \u001b[38;5;28;43mself\u001b[39;49m\u001b[43m \u001b[49m\u001b[38;5;241;43m+\u001b[39;49m\u001b[43m \u001b[49m\u001b[43m(\u001b[49m\u001b[38;5;241;43m-\u001b[39;49m\u001b[43ma\u001b[49m\u001b[43m)\u001b[49m\n",
      "File \u001b[0;32m/opt/homebrew/lib/python3.11/site-packages/sympy/core/decorators.py:106\u001b[0m, in \u001b[0;36mcall_highest_priority.<locals>.priority_decorator.<locals>.binary_op_wrapper\u001b[0;34m(self, other)\u001b[0m\n\u001b[1;32m    104\u001b[0m         \u001b[38;5;28;01mif\u001b[39;00m f \u001b[38;5;129;01mis\u001b[39;00m \u001b[38;5;129;01mnot\u001b[39;00m \u001b[38;5;28;01mNone\u001b[39;00m:\n\u001b[1;32m    105\u001b[0m             \u001b[38;5;28;01mreturn\u001b[39;00m f(\u001b[38;5;28mself\u001b[39m)\n\u001b[0;32m--> 106\u001b[0m \u001b[38;5;28;01mreturn\u001b[39;00m \u001b[43mfunc\u001b[49m\u001b[43m(\u001b[49m\u001b[38;5;28;43mself\u001b[39;49m\u001b[43m,\u001b[49m\u001b[43m \u001b[49m\u001b[43mother\u001b[49m\u001b[43m)\u001b[49m\n",
      "File \u001b[0;32m/opt/homebrew/lib/python3.11/site-packages/sympy/matrices/common.py:2656\u001b[0m, in \u001b[0;36mMatrixArithmetic.__add__\u001b[0;34m(self, other)\u001b[0m\n\u001b[1;32m   2653\u001b[0m \u001b[38;5;28;01mif\u001b[39;00m \u001b[38;5;28mgetattr\u001b[39m(other, \u001b[38;5;124m'\u001b[39m\u001b[38;5;124mis_MatrixLike\u001b[39m\u001b[38;5;124m'\u001b[39m, \u001b[38;5;28;01mFalse\u001b[39;00m):\n\u001b[1;32m   2654\u001b[0m     \u001b[38;5;28;01mreturn\u001b[39;00m MatrixArithmetic\u001b[38;5;241m.\u001b[39m_eval_add(\u001b[38;5;28mself\u001b[39m, other)\n\u001b[0;32m-> 2656\u001b[0m \u001b[38;5;28;01mraise\u001b[39;00m \u001b[38;5;167;01mTypeError\u001b[39;00m(\u001b[38;5;124m'\u001b[39m\u001b[38;5;124mcannot add \u001b[39m\u001b[38;5;132;01m%s\u001b[39;00m\u001b[38;5;124m and \u001b[39m\u001b[38;5;132;01m%s\u001b[39;00m\u001b[38;5;124m'\u001b[39m \u001b[38;5;241m%\u001b[39m (\u001b[38;5;28mtype\u001b[39m(\u001b[38;5;28mself\u001b[39m), \u001b[38;5;28mtype\u001b[39m(other)))\n",
      "\u001b[0;31mTypeError\u001b[0m: cannot add <class 'sympy.matrices.immutable.ImmutableDenseMatrix'> and <class 'int'>"
     ]
    }
   ],
   "source": [
    "dPi_dc1 = sym.diff(pi, C_1)\n",
    "sym.solve(dPi_dc1, C_1)"
   ]
  },
  {
   "cell_type": "code",
   "execution_count": 170,
   "metadata": {},
   "outputs": [
    {
     "data": {
      "text/plain": [
       "{C_2: 0.0}"
      ]
     },
     "execution_count": 170,
     "metadata": {},
     "output_type": "execute_result"
    }
   ],
   "source": [
    "dPi_dc2 = sym.diff(pi, C_2)\n",
    "sym.solve(dPi_dc2, C_2)"
   ]
  }
 ],
 "metadata": {
  "kernelspec": {
   "display_name": "Python 3",
   "language": "python",
   "name": "python3"
  },
  "language_info": {
   "codemirror_mode": {
    "name": "ipython",
    "version": 3
   },
   "file_extension": ".py",
   "mimetype": "text/x-python",
   "name": "python",
   "nbconvert_exporter": "python",
   "pygments_lexer": "ipython3",
   "version": "3.11.7"
  }
 },
 "nbformat": 4,
 "nbformat_minor": 2
}

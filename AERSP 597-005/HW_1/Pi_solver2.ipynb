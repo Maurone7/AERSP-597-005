{
 "cells": [
  {
   "cell_type": "code",
   "execution_count": 12,
   "metadata": {},
   "outputs": [],
   "source": [
    "# Importing necessary libraries\n",
    "import sympy as sym\n",
    "\n",
    "# Defining symbols\n",
    "x, y, z = sym.symbols('x y z')\n",
    "C_1, C_2, C_3 = sym.symbols('C_1 C_2 C_3')\n",
    "E, v = sym.symbols('E v')\n",
    "L, t = sym.symbols('L t')\n",
    "p_0, sigma_0 = sym.symbols('p_0 sigma_0')\n",
    "a, b, = sym.symbols('a b')\n",
    "P_0 = p_0*(x-L/2)\n",
    "x_0, x_max = 0, a\n",
    "y_0, y_max = 0, b\n",
    "z_0, z_max = -t/2, t/2\n",
    "n = sym.symbols('n')\n",
    "sigma_x, sigma_y, tau_xy = sigma_0, 0, 0\n",
    "\n",
    "# Defining displacement function\n",
    "w = C_1*(1-sym.cos(2*sym.pi*x/a))*(sym.sin(n*sym.pi*y/b))\n",
    "u = 0\n",
    "v_y = 0"
   ]
  },
  {
   "cell_type": "code",
   "execution_count": 13,
   "metadata": {},
   "outputs": [
    {
     "data": {
      "text/latex": [
       "$\\displaystyle \\begin{cases} \\frac{0.00520833333333333 \\pi^{3} C_{1}^{2} E t^{3} \\cdot \\left(16 a^{2} b^{2} n^{2} \\left(v - 1\\right) \\sin{\\left(2 \\pi n \\right)} - \\left(2 \\pi n - \\sin{\\left(2 \\pi n \\right)}\\right) \\left(3 a^{4} n^{4} + 8 a^{2} b^{2} n^{2} + 16 b^{4}\\right)\\right)}{a^{3} b^{3} n \\left(v^{2} - 1\\right)} & \\text{for}\\: \\frac{\\pi n}{b} \\neq 0 \\\\\\frac{0.0833333333333333 \\pi^{3} C_{1}^{2} E n t^{3} \\sin{\\left(2 \\pi n \\right)}}{a b \\left(v + 1\\right)} & \\text{otherwise} \\end{cases}$"
      ],
      "text/plain": [
       "Piecewise((0.00520833333333333*pi**3*C_1**2*E*t**3*(16*a**2*b**2*n**2*(v - 1)*sin(2*pi*n) - (2*pi*n - sin(2*pi*n))*(3*a**4*n**4 + 8*a**2*b**2*n**2 + 16*b**4))/(a**3*b**3*n*(v**2 - 1)), Ne(pi*n/b, 0)), (0.0833333333333333*pi**3*C_1**2*E*n*t**3*sin(2*pi*n)/(a*b*(v + 1)), True))"
      ]
     },
     "execution_count": 13,
     "metadata": {},
     "output_type": "execute_result"
    }
   ],
   "source": [
    "w_x = sym.diff(w,x)\n",
    "w_y = sym.diff(w,y)\n",
    "w_x_x = sym.diff(sym.diff(w,x),x)\n",
    "w_y_y = sym.diff(sym.diff(w,y),y)\n",
    "w_x_y = sym.diff(sym.diff(w,x),y)\n",
    "\n",
    "N_x = sym.symbols('N_x')\n",
    "U =1/2*E*t**3/(12*(1-v**2))*sym.integrate(sym.integrate((w_x_x+w_y_y)**2-2*(1-v)*(w_x_x*w_y_y-w_x_y**2), (x, x_0, x_max)), (y, y_0, y_max))\n",
    "sym.simplify(U)\n"
   ]
  },
  {
   "cell_type": "code",
   "execution_count": 14,
   "metadata": {},
   "outputs": [
    {
     "data": {
      "text/latex": [
       "$\\displaystyle \\begin{cases} \\frac{0.25 \\pi C_{1}^{2} N_{x} b \\left(2 \\pi n - \\sin{\\left(2 \\pi n \\right)}\\right)}{a n} & \\text{for}\\: a > -\\infty \\wedge a < \\infty \\wedge a \\neq 0 \\wedge \\frac{\\pi n}{b} \\neq 0 \\\\0 & \\text{otherwise} \\end{cases}$"
      ],
      "text/plain": [
       "Piecewise((0.25*pi*C_1**2*N_x*b*(2*pi*n - sin(2*pi*n))/(a*n), (a > -oo) & (a < oo) & Ne(a, 0) & Ne(pi*n/b, 0)), (0, True))"
      ]
     },
     "execution_count": 14,
     "metadata": {},
     "output_type": "execute_result"
    }
   ],
   "source": [
    "W = 1/2*sym.integrate(sym.integrate((N_x*w_x**2), (x, x_0, x_max)), (y, y_0, y_max))\n",
    "sym.simplify(W)"
   ]
  },
  {
   "cell_type": "code",
   "execution_count": 15,
   "metadata": {},
   "outputs": [
    {
     "data": {
      "text/latex": [
       "$\\displaystyle \\begin{cases} \\frac{\\pi C_{1} \\left(- 0.0208333333333333 \\pi^{3} E n t^{3} \\cdot \\left(3 a^{4} n^{4} + 8 a^{2} b^{2} n^{2} + 16 b^{4}\\right) - 1.0 \\pi N_{x} a^{2} b^{4} n \\left(v^{2} - 1\\right)\\right)}{a^{3} b^{3} n \\left(v^{2} - 1\\right)} & \\text{for}\\: a > -\\infty \\wedge a < \\infty \\wedge a \\neq 0 \\wedge \\frac{\\pi n}{b} \\neq 0 \\\\- \\frac{0.0208333333333333 \\pi^{4} C_{1} E t^{3} \\cdot \\left(3 a^{4} n^{4} + 8 a^{2} b^{2} n^{2} + 16 b^{4}\\right)}{a^{3} b^{3} \\left(v^{2} - 1\\right)} & \\text{for}\\: \\frac{\\pi n}{b} \\neq 0 \\\\0 & \\text{otherwise} \\end{cases}$"
      ],
      "text/plain": [
       "Piecewise((pi*C_1*(-0.0208333333333333*pi**3*E*n*t**3*(3*a**4*n**4 + 8*a**2*b**2*n**2 + 16*b**4) - 1.0*pi*N_x*a**2*b**4*n*(v**2 - 1))/(a**3*b**3*n*(v**2 - 1)), (a > -oo) & (a < oo) & Ne(a, 0) & Ne(pi*n/b, 0)), (-0.0208333333333333*pi**4*C_1*E*t**3*(3*a**4*n**4 + 8*a**2*b**2*n**2 + 16*b**4)/(a**3*b**3*(v**2 - 1)), Ne(pi*n/b, 0)), (0, True))"
      ]
     },
     "execution_count": 15,
     "metadata": {},
     "output_type": "execute_result"
    }
   ],
   "source": [
    "pi = U-W\n",
    "U_c = sym.diff(U, C_1)\n",
    "W_c = sym.diff(W, C_1)\n",
    "pi_C = sym.diff(pi, C_1)\n",
    "pi_C = sym.simplify(pi_C)\n",
    "pi_C = pi_C.subs(sym.sin(2*sym.pi*n), 0)\n",
    "pi_C"
   ]
  },
  {
   "cell_type": "code",
   "execution_count": 16,
   "metadata": {},
   "outputs": [
    {
     "data": {
      "text/latex": [
       "$\\displaystyle - \\frac{0.0277777777777778}{\\pi^{2} E a^{2} b^{4} t^{3} \\left(v^{2} - 1\\right) \\left(a^{4} + 2 a^{2} b^{2} + b^{4}\\right)}$"
      ],
      "text/plain": [
       "-0.0277777777777778/(pi**2*E*a**2*b**4*t**3*(v**2 - 1)*(a**4 + 2*a**2*b**2 + b**4))"
      ]
     },
     "execution_count": 16,
     "metadata": {},
     "output_type": "execute_result"
    }
   ],
   "source": [
    "sym.simplify(-1/48*1/(sym.pi**2*E*t**3*(a**4+2*a**2*b**2+b**4))*1/(0.75*a**2*b**4*(v**2-1)))"
   ]
  },
  {
   "cell_type": "code",
   "execution_count": 17,
   "metadata": {},
   "outputs": [
    {
     "data": {
      "text/plain": [
       "35.99999999999997"
      ]
     },
     "execution_count": 17,
     "metadata": {},
     "output_type": "execute_result"
    }
   ],
   "source": [
    "1/0.0277777777777778"
   ]
  },
  {
   "cell_type": "code",
   "execution_count": 18,
   "metadata": {},
   "outputs": [
    {
     "data": {
      "text/latex": [
       "$\\displaystyle \\frac{0.5 E t^{3} \\left(- \\frac{4 \\pi^{3} C_{1} n \\left(2 v - 2\\right) \\sin{\\left(\\pi n \\right)} \\cos{\\left(\\pi n \\right)}}{a b} + \\begin{cases} \\frac{3 \\pi^{3} C_{1} a n^{3} \\left(\\frac{\\pi n}{2} - \\frac{\\sin{\\left(\\pi n \\right)} \\cos{\\left(\\pi n \\right)}}{2}\\right)}{b^{3}} + \\frac{8 \\pi^{3} C_{1} n \\left(\\frac{\\pi n}{2} - \\frac{\\sin{\\left(\\pi n \\right)} \\cos{\\left(\\pi n \\right)}}{2}\\right)}{a b} + \\frac{16 \\pi^{3} C_{1} b \\left(\\frac{\\pi n}{2} - \\frac{\\sin{\\left(\\pi n \\right)} \\cos{\\left(\\pi n \\right)}}{2}\\right)}{a^{3} n} & \\text{for}\\: \\frac{\\pi n}{b} \\neq 0 \\\\0 & \\text{otherwise} \\end{cases}\\right)}{12 - 12 v^{2}} - 0.5 \\left(\\begin{cases} \\frac{4 \\pi C_{1} N_{x} b \\left(\\frac{\\pi n}{2} - \\frac{\\sin{\\left(\\pi n \\right)} \\cos{\\left(\\pi n \\right)}}{2}\\right)}{a n} & \\text{for}\\: a > -\\infty \\wedge a < \\infty \\wedge a \\neq 0 \\wedge \\frac{\\pi n}{b} \\neq 0 \\\\0 & \\text{otherwise} \\end{cases}\\right)$"
      ],
      "text/plain": [
       "0.5*E*t**3*(-4*pi**3*C_1*n*(2*v - 2)*sin(pi*n)*cos(pi*n)/(a*b) + Piecewise((3*pi**3*C_1*a*n**3*(pi*n/2 - sin(pi*n)*cos(pi*n)/2)/b**3 + 8*pi**3*C_1*n*(pi*n/2 - sin(pi*n)*cos(pi*n)/2)/(a*b) + 16*pi**3*C_1*b*(pi*n/2 - sin(pi*n)*cos(pi*n)/2)/(a**3*n), Ne(pi*n/b, 0)), (0, True)))/(12 - 12*v**2) - 0.5*Piecewise((4*pi*C_1*N_x*b*(pi*n/2 - sin(pi*n)*cos(pi*n)/2)/(a*n), (a > -oo) & (a < oo) & Ne(a, 0) & Ne(pi*n/b, 0)), (0, True))"
      ]
     },
     "execution_count": 18,
     "metadata": {},
     "output_type": "execute_result"
    }
   ],
   "source": [
    "U_c - W_c"
   ]
  },
  {
   "cell_type": "code",
   "execution_count": 19,
   "metadata": {},
   "outputs": [
    {
     "data": {
      "text/plain": [
       "95.99999999999969"
      ]
     },
     "execution_count": 19,
     "metadata": {},
     "output_type": "execute_result"
    }
   ],
   "source": [
    "1/0.0104166666666667"
   ]
  },
  {
   "cell_type": "code",
   "execution_count": 20,
   "metadata": {},
   "outputs": [
    {
     "data": {
      "text/latex": [
       "$\\displaystyle \\frac{a^{2}}{b^{4}} + \\frac{2}{b^{2}} + \\frac{3}{a^{2}}$"
      ],
      "text/plain": [
       "a**2/b**4 + 2/b**2 + 3/a**2"
      ]
     },
     "execution_count": 20,
     "metadata": {},
     "output_type": "execute_result"
    }
   ],
   "source": [
    "sym.simplify((a**4+2*a**2*b**2+3*b**4)/(a**2*b**4))"
   ]
  },
  {
   "cell_type": "code",
   "execution_count": 21,
   "metadata": {},
   "outputs": [
    {
     "ename": "NameError",
     "evalue": "name 'np' is not defined",
     "output_type": "error",
     "traceback": [
      "\u001b[0;31m---------------------------------------------------------------------------\u001b[0m",
      "\u001b[0;31mNameError\u001b[0m                                 Traceback (most recent call last)",
      "Cell \u001b[0;32mIn[21], line 2\u001b[0m\n\u001b[1;32m      1\u001b[0m k \u001b[38;5;241m=\u001b[39m \u001b[38;5;28;01mlambda\u001b[39;00m x, m: m\u001b[38;5;241m*\u001b[39m\u001b[38;5;241m*\u001b[39m\u001b[38;5;241m2\u001b[39m\u001b[38;5;241m/\u001b[39mx\u001b[38;5;241m*\u001b[39m\u001b[38;5;241m*\u001b[39m\u001b[38;5;241m2\u001b[39m \u001b[38;5;241m+\u001b[39m \u001b[38;5;241m16\u001b[39m\u001b[38;5;241m*\u001b[39mx\u001b[38;5;241m*\u001b[39m\u001b[38;5;241m*\u001b[39m\u001b[38;5;241m2\u001b[39m\u001b[38;5;241m/\u001b[39m(\u001b[38;5;241m3\u001b[39m\u001b[38;5;241m*\u001b[39mm\u001b[38;5;241m*\u001b[39m\u001b[38;5;241m*\u001b[39m\u001b[38;5;241m2\u001b[39m) \u001b[38;5;241m+\u001b[39m \u001b[38;5;241m8\u001b[39m\u001b[38;5;241m/\u001b[39m\u001b[38;5;241m3\u001b[39m\n\u001b[0;32m----> 2\u001b[0m x \u001b[38;5;241m=\u001b[39m \u001b[43mnp\u001b[49m\u001b[38;5;241m.\u001b[39mlinspace(\u001b[38;5;241m0\u001b[39m, \u001b[38;5;241m5\u001b[39m, \u001b[38;5;241m100\u001b[39m)\n\u001b[1;32m      4\u001b[0m [plt\u001b[38;5;241m.\u001b[39mplot(x, k(x, m), label \u001b[38;5;241m=\u001b[39m \u001b[38;5;124mf\u001b[39m\u001b[38;5;124m'\u001b[39m\u001b[38;5;124mm = \u001b[39m\u001b[38;5;132;01m{\u001b[39;00mm\u001b[38;5;132;01m}\u001b[39;00m\u001b[38;5;124m'\u001b[39m) \u001b[38;5;28;01mfor\u001b[39;00m m \u001b[38;5;129;01min\u001b[39;00m \u001b[38;5;28mrange\u001b[39m(\u001b[38;5;241m1\u001b[39m, \u001b[38;5;241m6\u001b[39m)]\n\u001b[1;32m      5\u001b[0m plt\u001b[38;5;241m.\u001b[39mlegend()\n",
      "\u001b[0;31mNameError\u001b[0m: name 'np' is not defined"
     ]
    }
   ],
   "source": [
    "k = lambda x, m: m**2/x**2 + 16*x**2/(3*m**2) + 8/3\n",
    "x = np.linspace(0, 5, 100)\n",
    "\n",
    "[plt.plot(x, k(x, m), label = f'm = {m}') for m in range(1, 6)]\n",
    "plt.legend()\n",
    "plt.ylim(4, 10)\n",
    "plt.savefig('HW2_Ex3.png')\n",
    "plt.show()"
   ]
  }
 ],
 "metadata": {
  "kernelspec": {
   "display_name": "Python 3",
   "language": "python",
   "name": "python3"
  },
  "language_info": {
   "codemirror_mode": {
    "name": "ipython",
    "version": 3
   },
   "file_extension": ".py",
   "mimetype": "text/x-python",
   "name": "python",
   "nbconvert_exporter": "python",
   "pygments_lexer": "ipython3",
   "version": "3.11.7"
  }
 },
 "nbformat": 4,
 "nbformat_minor": 2
}

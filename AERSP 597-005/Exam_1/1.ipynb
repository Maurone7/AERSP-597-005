{
 "cells": [
  {
   "cell_type": "markdown",
   "metadata": {},
   "source": [
    "# <center> PART A <center>"
   ]
  },
  {
   "cell_type": "code",
   "execution_count": 5,
   "metadata": {},
   "outputs": [
    {
     "data": {
      "text/plain": [
       "array([1.75e-05, 7.25e-05, 1.65e-04])"
      ]
     },
     "execution_count": 5,
     "metadata": {},
     "output_type": "execute_result"
    }
   ],
   "source": [
    "import numpy as np\n",
    "\n",
    "poisson_ratio = 0.1\n",
    "yield_strenght = [220, -320]\n",
    "ultimate_strenght = [305, -410]\n",
    "\n",
    "#Set everyhting in MPa\n",
    "E = 200 *10e3\n",
    "\n",
    "sigma_x, sigma_y = 50, 150\n",
    "tau_xy = 150\n",
    "\n",
    "compliance_matrix = np.array([[1/E, -poisson_ratio/E, 0],\n",
    "                     [-poisson_ratio/E, 1/E, 0],\n",
    "                     [0, 0, 1/(E/(2*(1+poisson_ratio)))]])\n",
    "\n",
    "\n",
    "\n",
    "strain_set = np.array([sigma_x, sigma_y, tau_xy]) @ compliance_matrix\n",
    "strain_set"
   ]
  },
  {
   "cell_type": "code",
   "execution_count": 6,
   "metadata": {},
   "outputs": [
    {
     "data": {
      "text/plain": [
       "array([-58.11388301, 258.11388301])"
      ]
     },
     "execution_count": 6,
     "metadata": {},
     "output_type": "execute_result"
    }
   ],
   "source": [
    "stress_matrix = [[sigma_x, tau_xy],[tau_xy, sigma_y]]\n",
    "eigenvalues = np.linalg.eigvals(stress_matrix)\n",
    "eigenvalues"
   ]
  },
  {
   "cell_type": "markdown",
   "metadata": {},
   "source": [
    "#### <center> The material will have permanent deformation, but it will not break <center>"
   ]
  },
  {
   "cell_type": "markdown",
   "metadata": {},
   "source": [
    "# <center> PART B <center>"
   ]
  },
  {
   "cell_type": "code",
   "execution_count": 7,
   "metadata": {},
   "outputs": [
    {
     "data": {
      "text/plain": [
       "array([6.75e-05, 6.75e-05, 5.50e-05])"
      ]
     },
     "execution_count": 7,
     "metadata": {},
     "output_type": "execute_result"
    }
   ],
   "source": [
    "sigma_x, sigma_y = 150, 150\n",
    "tau_xy = 50\n",
    "\n",
    "stress_array = np.array([sigma_x, sigma_y, tau_xy])\n",
    "\n",
    "strain_set = stress_array @ compliance_matrix\n",
    "strain_set"
   ]
  },
  {
   "cell_type": "code",
   "execution_count": 8,
   "metadata": {},
   "outputs": [
    {
     "data": {
      "text/plain": [
       "array([200., 100.])"
      ]
     },
     "execution_count": 8,
     "metadata": {},
     "output_type": "execute_result"
    }
   ],
   "source": [
    "# Calculate eigenvalues of stress_array\n",
    "stress_matrix = np.array([[sigma_x, tau_xy],\n",
    "                          [tau_xy, sigma_y]])\n",
    "eigenvalues = np.linalg.eigvals(stress_matrix)\n",
    "eigenvalues"
   ]
  },
  {
   "cell_type": "markdown",
   "metadata": {},
   "source": [
    "### <center> The material will not have permanent deformation <center>"
   ]
  }
 ],
 "metadata": {
  "kernelspec": {
   "display_name": "Python 3",
   "language": "python",
   "name": "python3"
  },
  "language_info": {
   "codemirror_mode": {
    "name": "ipython",
    "version": 3
   },
   "file_extension": ".py",
   "mimetype": "text/x-python",
   "name": "python",
   "nbconvert_exporter": "python",
   "pygments_lexer": "ipython3",
   "version": "3.11.7"
  }
 },
 "nbformat": 4,
 "nbformat_minor": 2
}

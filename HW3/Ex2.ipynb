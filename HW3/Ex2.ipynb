{
 "cells": [
  {
   "cell_type": "code",
   "execution_count": null,
   "metadata": {},
   "outputs": [
    {
     "data": {
      "text/plain": [
       "0.04000000000000001"
      ]
     },
     "execution_count": 14,
     "metadata": {},
     "output_type": "execute_result"
    }
   ],
   "source": [
    "E_L = 200 #GPa\n",
    "E_L = 200e9 #Pa\n",
    "E_T = 40 #GPa\n",
    "E_T = 40e9 #Pa\n",
    "nu_LT = 0.2\n",
    "# nu_TL = E_T/E_L*nu_LT\n",
    "nu_TL = E_T/E_L*nu_LT\n",
    "G_LT = 30 #GPa\n",
    "G_LT = 30e9 #Pa\n",
    "t = 0.1 #mm\n",
    "t = 0.1e-3 #m\n",
    "angle_list = [0, 45, 90, -45]\n",
    "repetitions = 2\n",
    "\n",
    "nu_TL"
   ]
  },
  {
   "cell_type": "markdown",
   "metadata": {},
   "source": [
    "# <center> A <center>"
   ]
  },
  {
   "cell_type": "code",
   "execution_count": null,
   "metadata": {},
   "outputs": [
    {
     "data": {
      "text/plain": [
       "[[201612903225.80646, 8064516129.03226, 0],\n",
       " [8064516129.03226, 40322580645.16129, 0],\n",
       " [0, 0, 30000000000.0]]"
      ]
     },
     "metadata": {},
     "output_type": "display_data"
    },
    {
     "name": "stdout",
     "output_type": "stream",
     "text": [
      "Q_bar(0.0)\n"
     ]
    },
    {
     "data": {
      "text/latex": [
       "$\\displaystyle \\left[\\begin{matrix}201612903225.806 & 8064516129.03226 & 0\\\\8064516129.03226 & 40322580645.1613 & 0\\\\0 & 0 & 30000000000.0\\end{matrix}\\right]$"
      ],
      "text/plain": [
       "Matrix([\n",
       "[201612903225.806, 8064516129.03226,             0],\n",
       "[8064516129.03226, 40322580645.1613,             0],\n",
       "[               0,                0, 30000000000.0]])"
      ]
     },
     "metadata": {},
     "output_type": "display_data"
    },
    {
     "name": "stdout",
     "output_type": "stream",
     "text": [
      "\n",
      "Q_bar(0.7853981633974483)\n"
     ]
    },
    {
     "data": {
      "text/latex": [
       "$\\displaystyle \\left[\\begin{matrix}94516129032.2581 & 34516129032.2581 & 40322580645.1613\\\\34516129032.2581 & 94516129032.2581 & 40322580645.1613\\\\40322580645.1613 & 40322580645.1613 & 56451612903.2258\\end{matrix}\\right]$"
      ],
      "text/plain": [
       "Matrix([\n",
       "[94516129032.2581, 34516129032.2581, 40322580645.1613],\n",
       "[34516129032.2581, 94516129032.2581, 40322580645.1613],\n",
       "[40322580645.1613, 40322580645.1613, 56451612903.2258]])"
      ]
     },
     "metadata": {},
     "output_type": "display_data"
    },
    {
     "name": "stdout",
     "output_type": "stream",
     "text": [
      "\n",
      "Q_bar(1.5707963267948966)\n"
     ]
    },
    {
     "data": {
      "text/latex": [
       "$\\displaystyle \\left[\\begin{matrix}40322580645.1613 & 8064516129.03226 & 1.69870362462375 \\cdot 10^{-6}\\\\8064516129.03226 & 201612903225.806 & 8.17748023946781 \\cdot 10^{-6}\\\\1.69870362462375 \\cdot 10^{-6} & 8.17748023946781 \\cdot 10^{-6} & 30000000000.0\\end{matrix}\\right]$"
      ],
      "text/plain": [
       "Matrix([\n",
       "[   40322580645.1613,    8064516129.03226, 1.69870362462375e-6],\n",
       "[   8064516129.03226,    201612903225.806, 8.17748023946781e-6],\n",
       "[1.69870362462375e-6, 8.17748023946781e-6,       30000000000.0]])"
      ]
     },
     "metadata": {},
     "output_type": "display_data"
    },
    {
     "name": "stdout",
     "output_type": "stream",
     "text": [
      "\n",
      "Q_bar(-0.7853981633974483)\n"
     ]
    },
    {
     "data": {
      "text/latex": [
       "$\\displaystyle \\left[\\begin{matrix}94516129032.2581 & 34516129032.2581 & -40322580645.1613\\\\34516129032.2581 & 94516129032.2581 & -40322580645.1613\\\\-40322580645.1613 & -40322580645.1613 & 56451612903.2258\\end{matrix}\\right]$"
      ],
      "text/plain": [
       "Matrix([\n",
       "[ 94516129032.2581,  34516129032.2581, -40322580645.1613],\n",
       "[ 34516129032.2581,  94516129032.2581, -40322580645.1613],\n",
       "[-40322580645.1613, -40322580645.1613,  56451612903.2258]])"
      ]
     },
     "metadata": {},
     "output_type": "display_data"
    },
    {
     "name": "stdout",
     "output_type": "stream",
     "text": [
      "\n"
     ]
    },
    {
     "data": {
      "text/latex": [
       "$\\displaystyle \\left[\\begin{matrix}\\left[\\begin{matrix}201612903225.806 & 8064516129.03226 & 0.0\\end{matrix}\\right] & \\left[\\begin{matrix}8064516129.03226 & 40322580645.1613 & 0.0\\end{matrix}\\right] & \\left[\\begin{matrix}0.0 & 0.0 & 30000000000.0\\end{matrix}\\right]\\\\\\left[\\begin{matrix}94516129032.2581 & 34516129032.2581 & 40322580645.1613\\end{matrix}\\right] & \\left[\\begin{matrix}34516129032.2581 & 94516129032.2581 & 40322580645.1613\\end{matrix}\\right] & \\left[\\begin{matrix}40322580645.1613 & 40322580645.1613 & 56451612903.2258\\end{matrix}\\right]\\\\\\left[\\begin{matrix}40322580645.1613 & 8064516129.03226 & 1.69870362462375 \\cdot 10^{-6}\\end{matrix}\\right] & \\left[\\begin{matrix}8064516129.03226 & 201612903225.806 & 8.17748023946781 \\cdot 10^{-6}\\end{matrix}\\right] & \\left[\\begin{matrix}1.69870362462375 \\cdot 10^{-6} & 8.17748023946781 \\cdot 10^{-6} & 30000000000.0\\end{matrix}\\right]\\\\\\left[\\begin{matrix}94516129032.2581 & 34516129032.2581 & -40322580645.1613\\end{matrix}\\right] & \\left[\\begin{matrix}34516129032.2581 & 94516129032.2581 & -40322580645.1613\\end{matrix}\\right] & \\left[\\begin{matrix}-40322580645.1613 & -40322580645.1613 & 56451612903.2258\\end{matrix}\\right]\\end{matrix}\\right]$"
      ],
      "text/plain": [
       "Matrix([\n",
       "[                [201612903225.806, 8064516129.03226, 0.0],                 [8064516129.03226, 40322580645.1613, 0.0],                                 [0.0, 0.0, 30000000000.0]],\n",
       "[   [94516129032.2581, 34516129032.2581, 40322580645.1613],    [34516129032.2581, 94516129032.2581, 40322580645.1613],    [40322580645.1613, 40322580645.1613, 56451612903.2258]],\n",
       "[[40322580645.1613, 8064516129.03226, 1.69870362462375e-6], [8064516129.03226, 201612903225.806, 8.17748023946781e-6], [1.69870362462375e-6, 8.17748023946781e-6, 30000000000.0]],\n",
       "[  [94516129032.2581, 34516129032.2581, -40322580645.1613],   [34516129032.2581, 94516129032.2581, -40322580645.1613],  [-40322580645.1613, -40322580645.1613, 56451612903.2258]]])"
      ]
     },
     "metadata": {},
     "output_type": "display_data"
    }
   ],
   "source": [
    "#A laminate is consisting of a ply stack of [0/45/90/-45]2. Material properties of a ply is given right. The ply thickness is 0.1 mm\n",
    "#a) Calculate the A matrix, D matrix, and B matrix of this laminate.\n",
    "import numpy as np\n",
    "import sympy as sym\n",
    "import warnings\n",
    "warnings.filterwarnings(\"ignore\", category=DeprecationWarning)\n",
    "\n",
    "# Q matrix\n",
    "Q = [[E_L/(1-nu_LT*nu_TL), E_L*nu_TL/(1-nu_LT*nu_TL), 0],\n",
    "     [E_L*nu_TL/(1-nu_LT*nu_TL), E_T/(1-nu_LT*nu_TL), 0],\n",
    "     [0, 0, G_LT]]\n",
    "display(Q)\n",
    "T_sigma = lambda theta: [[np.cos(theta)**2, np.sin(theta)**2, 2*np.cos(theta)*np.sin(theta)],\n",
    "                   [np.sin(theta)**2, np.cos(theta)**2, -2*np.cos(theta)*np.sin(theta)],\n",
    "                   [-np.cos(theta)*np.sin(theta), np.cos(theta)*np.sin(theta), np.cos(theta)**2-np.sin(theta)**2]]\n",
    "T_epsilon = lambda theta: [[np.cos(theta)**2, np.sin(theta)**2, np.cos(theta)*np.sin(theta)],\n",
    "                     [np.sin(theta)**2, np.cos(theta)**2, -np.cos(theta)*np.sin(theta)],\n",
    "                     [-2*np.cos(theta)*np.sin(theta), 2*np.cos(theta)*np.sin(theta), np.cos(theta)**2-np.sin(theta)**2]]\n",
    "def Q_bar(theta):\n",
    "    T_sigma_ = T_sigma(theta)\n",
    "    T_epsilon_ = T_epsilon(theta)\n",
    "    return np.dot(np.dot(np.linalg.inv(T_sigma_), Q), T_epsilon_)\n",
    "\n",
    "# Convert to radians\n",
    "angle_list = [angle*np.pi/180 for angle in angle_list]\n",
    "Q_list = []\n",
    "for angle in angle_list:\n",
    "    print(f\"Q_bar({angle})\")\n",
    "    display(sym.Matrix(Q_bar(angle)))\n",
    "    Q_list.append(Q_bar(angle))\n",
    "    print()\n",
    "\n",
    "display(sym.Matrix(Q_list))\n"
   ]
  },
  {
   "cell_type": "code",
   "execution_count": null,
   "metadata": {},
   "outputs": [
    {
     "data": {
      "text/latex": [
       "$\\displaystyle \\left[\\begin{matrix}86193548.3870968 & 17032258.0645161 & 0\\\\17032258.0645161 & 86193548.3870968 & 1.52587890625 \\cdot 10^{-9}\\\\0 & 1.52587890625 \\cdot 10^{-9} & 34580645.1612903\\end{matrix}\\right]$"
      ],
      "text/plain": [
       "Matrix([\n",
       "[86193548.3870968, 17032258.0645161,                0],\n",
       "[17032258.0645161, 86193548.3870968, 1.52587890625e-9],\n",
       "[               0, 1.52587890625e-9, 34580645.1612903]])"
      ]
     },
     "metadata": {},
     "output_type": "display_data"
    }
   ],
   "source": [
    "# A matrix\n",
    "A = 2*t*(sum(Q_list))\n",
    "display(sym.Matrix(A))"
   ]
  },
  {
   "cell_type": "code",
   "execution_count": null,
   "metadata": {},
   "outputs": [
    {
     "data": {
      "text/latex": [
       "$\\displaystyle \\left[\\begin{matrix}3754.83870967742 & -529.032258064516 & 1612.90322580645\\\\-529.032258064516 & -2696.77419354839 & 1612.90322580645\\\\1612.90322580645 & 1612.90322580645 & -529.032258064516\\end{matrix}\\right]$"
      ],
      "text/plain": [
       "Matrix([\n",
       "[ 3754.83870967742, -529.032258064516,  1612.90322580645],\n",
       "[-529.032258064516, -2696.77419354839,  1612.90322580645],\n",
       "[ 1612.90322580645,  1612.90322580645, -529.032258064516]])"
      ]
     },
     "metadata": {},
     "output_type": "display_data"
    },
    {
     "data": {
      "text/latex": [
       "$\\displaystyle \\left[\\begin{matrix}4.91956989247312 & 0.908387096774194 & -0.161290322580645\\\\0.908387096774194 & 4.27440860215054 & -0.161290322580645\\\\-0.161290322580645 & -0.161290322580645 & 1.84430107526882\\end{matrix}\\right]$"
      ],
      "text/plain": [
       "Matrix([\n",
       "[  4.91956989247312,  0.908387096774194, -0.161290322580645],\n",
       "[ 0.908387096774194,   4.27440860215054, -0.161290322580645],\n",
       "[-0.161290322580645, -0.161290322580645,   1.84430107526882]])"
      ]
     },
     "metadata": {},
     "output_type": "display_data"
    }
   ],
   "source": [
    "def BD_func(symmetric=False, repetitions=1, t=1):\n",
    "    D = 0\n",
    "    B = 0\n",
    "    m=0\n",
    "    if not symmetric:\n",
    "        for i in np.arange(repetitions/2 * len(angle_list), -repetitions/2 * len(angle_list), -1):\n",
    "            B += ((t*i)**2-(t*(i-1))**2)/2 * Q_list[m]\n",
    "            D += ((t*i)**3-(t*(i-1))**3)/3 * Q_list[m]\n",
    "            m += 1\n",
    "            if m == len(angle_list):\n",
    "                m = 0\n",
    "        \n",
    "    if symmetric:\n",
    "        B = np.zeros((3, 3))\n",
    "        repetitions = repetitions*2\n",
    "        for i in np.arange(len(angle_list), 0, -1):\n",
    "            D += ((t*i)**3-(t*(i-1))**3)/3 * Q_list[m]\n",
    "            m += 1\n",
    "            if m == len(angle_list):\n",
    "                m = 0\n",
    "\n",
    "        if m == 0:\n",
    "                m = len(angle_list)-1\n",
    "                \n",
    "        for i in np.arange(0, -len(angle_list), -1):\n",
    "            D += ((t*i)**3-(t*(i-1))**3)/3 * Q_list[m]\n",
    "            m -= 1\n",
    "            if m == -len(angle_list):\n",
    "                m = 0\n",
    "                \n",
    "    return B, D\n",
    "\n",
    "B, D = BD_func(symmetric=False, repetitions=repetitions, t=t)\n",
    "display(sym.Matrix(B), sym.Matrix(D))"
   ]
  },
  {
   "cell_type": "markdown",
   "metadata": {},
   "source": [
    "# <center> B <center>"
   ]
  },
  {
   "cell_type": "code",
   "execution_count": null,
   "metadata": {},
   "outputs": [
    {
     "data": {
      "text/latex": [
       "$\\displaystyle \\left[\\begin{matrix}-0.0107234325020912\\\\0.0017197509196674\\\\-0.00803541094558697\\\\223.060228613911\\\\-43.8126949951916\\\\21.2448870284602\\end{matrix}\\right]$"
      ],
      "text/plain": [
       "Matrix([\n",
       "[ -0.0107234325020912],\n",
       "[  0.0017197509196674],\n",
       "[-0.00803541094558697],\n",
       "[    223.060228613911],\n",
       "[   -43.8126949951916],\n",
       "[    21.2448870284602]])"
      ]
     },
     "execution_count": 18,
     "metadata": {},
     "output_type": "execute_result"
    }
   ],
   "source": [
    "# b) Solve for the strain of the laminate, when Mx of 1000 [N] is applied. Where in the plate experiences the largest strains?\n",
    "def find_epsilon_kappa(N_x=0, N_y=0, N_z=0, M_x=0, M_y=0, M_z=0):\n",
    "    N_matrix = np.transpose([N_x, N_y, N_z])\n",
    "    M_matrix = np.transpose([M_x, M_y, M_z])\n",
    "    N_M_matrix = np.block([N_matrix, M_matrix])\n",
    "    ABDB_matrix = np.block([[A, B], [B, D]])\n",
    "    epsilon_kappa_matrix = np.linalg.inv(ABDB_matrix) @ N_M_matrix\n",
    "    return epsilon_kappa_matrix\n",
    "\n",
    "epsilon_kappa_matrix = find_epsilon_kappa(M_x = 1000)\n",
    "sym.Matrix(epsilon_kappa_matrix)\n"
   ]
  },
  {
   "cell_type": "code",
   "execution_count": null,
   "metadata": {},
   "outputs": [
    {
     "data": {
      "text/latex": [
       "$\\displaystyle \\left[\\begin{matrix}-0.0107234325020912\\\\0.0017197509196674\\\\-0.00803541094558697\\end{matrix}\\right]$"
      ],
      "text/plain": [
       "Matrix([\n",
       "[ -0.0107234325020912],\n",
       "[  0.0017197509196674],\n",
       "[-0.00803541094558697]])"
      ]
     },
     "metadata": {},
     "output_type": "display_data"
    },
    {
     "data": {
      "text/latex": [
       "$\\displaystyle \\left[\\begin{matrix}223.060228613911\\\\-43.8126949951916\\\\21.2448870284602\\end{matrix}\\right]$"
      ],
      "text/plain": [
       "Matrix([\n",
       "[ 223.060228613911],\n",
       "[-43.8126949951916],\n",
       "[ 21.2448870284602]])"
      ]
     },
     "metadata": {},
     "output_type": "display_data"
    }
   ],
   "source": [
    "epsilom_matrix = epsilon_kappa_matrix[:3]\n",
    "kappa_matrix = epsilon_kappa_matrix[3:]\n",
    "display(sym.Matrix(epsilom_matrix), sym.Matrix(kappa_matrix))"
   ]
  },
  {
   "cell_type": "code",
   "execution_count": null,
   "metadata": {},
   "outputs": [
    {
     "name": "stdout",
     "output_type": "stream",
     "text": [
      "Top\n"
     ]
    },
    {
     "data": {
      "text/latex": [
       "$\\displaystyle \\left[\\begin{matrix}0.0561946360820821\\\\-0.0114240575788901\\\\-0.00166194483704892\\end{matrix}\\right]$"
      ],
      "text/plain": [
       "Matrix([\n",
       "[  0.0561946360820821],\n",
       "[ -0.0114240575788901],\n",
       "[-0.00166194483704892]])"
      ]
     },
     "metadata": {},
     "output_type": "display_data"
    },
    {
     "name": "stdout",
     "output_type": "stream",
     "text": [
      "Bottom\n"
     ]
    },
    {
     "data": {
      "text/latex": [
       "$\\displaystyle \\left[\\begin{matrix}-0.0776415010862646\\\\0.0148635594182249\\\\-0.014408877054125\\end{matrix}\\right]$"
      ],
      "text/plain": [
       "Matrix([\n",
       "[-0.0776415010862646],\n",
       "[ 0.0148635594182249],\n",
       "[ -0.014408877054125]])"
      ]
     },
     "metadata": {},
     "output_type": "display_data"
    }
   ],
   "source": [
    "print(\"Top\")\n",
    "display(sym.Matrix(epsilom_matrix) + 3*t*sym.Matrix(kappa_matrix))\n",
    "print(\"Bottom\")\n",
    "display(sym.Matrix(epsilom_matrix) - 3*t*sym.Matrix(kappa_matrix))"
   ]
  },
  {
   "cell_type": "markdown",
   "metadata": {},
   "source": [
    "When multiplying the $k$ matrix by $\\pm 0.0003$ this is what we obtain. These are the maximum stresses at the top and bottom surfaces of our plate. We can notice that the stress along the x will be greatest in magnitude at the bottom of the plate, while for the stress in the y direction the magnitude will be greatest at the bottom of the plate. This also applies to $\\epsilon_3$, as in the largest magnitude is at the bottom."
   ]
  },
  {
   "cell_type": "markdown",
   "metadata": {},
   "source": [
    "# <center> C <center>"
   ]
  },
  {
   "cell_type": "code",
   "execution_count": null,
   "metadata": {},
   "outputs": [
    {
     "name": "stdout",
     "output_type": "stream",
     "text": [
      "Q_bar(0.0)\n"
     ]
    },
    {
     "data": {
      "text/latex": [
       "$\\displaystyle \\left[\\begin{matrix}201612903225.806 & 8064516129.03226 & 0\\\\8064516129.03226 & 40322580645.1613 & 0\\\\0 & 0 & 30000000000.0\\end{matrix}\\right]$"
      ],
      "text/plain": [
       "Matrix([\n",
       "[201612903225.806, 8064516129.03226,             0],\n",
       "[8064516129.03226, 40322580645.1613,             0],\n",
       "[               0,                0, 30000000000.0]])"
      ]
     },
     "metadata": {},
     "output_type": "display_data"
    },
    {
     "name": "stdout",
     "output_type": "stream",
     "text": [
      "\n",
      "Q_bar(0.7853981633974483)\n"
     ]
    },
    {
     "data": {
      "text/latex": [
       "$\\displaystyle \\left[\\begin{matrix}94516129032.2581 & 34516129032.2581 & 40322580645.1613\\\\34516129032.2581 & 94516129032.2581 & 40322580645.1613\\\\40322580645.1613 & 40322580645.1613 & 56451612903.2258\\end{matrix}\\right]$"
      ],
      "text/plain": [
       "Matrix([\n",
       "[94516129032.2581, 34516129032.2581, 40322580645.1613],\n",
       "[34516129032.2581, 94516129032.2581, 40322580645.1613],\n",
       "[40322580645.1613, 40322580645.1613, 56451612903.2258]])"
      ]
     },
     "metadata": {},
     "output_type": "display_data"
    },
    {
     "name": "stdout",
     "output_type": "stream",
     "text": [
      "\n",
      "Q_bar(1.5707963267948966)\n"
     ]
    },
    {
     "data": {
      "text/latex": [
       "$\\displaystyle \\left[\\begin{matrix}40322580645.1613 & 8064516129.03226 & 1.69870362462375 \\cdot 10^{-6}\\\\8064516129.03226 & 201612903225.806 & 8.17748023946781 \\cdot 10^{-6}\\\\1.69870362462375 \\cdot 10^{-6} & 8.17748023946781 \\cdot 10^{-6} & 30000000000.0\\end{matrix}\\right]$"
      ],
      "text/plain": [
       "Matrix([\n",
       "[   40322580645.1613,    8064516129.03226, 1.69870362462375e-6],\n",
       "[   8064516129.03226,    201612903225.806, 8.17748023946781e-6],\n",
       "[1.69870362462375e-6, 8.17748023946781e-6,       30000000000.0]])"
      ]
     },
     "metadata": {},
     "output_type": "display_data"
    },
    {
     "name": "stdout",
     "output_type": "stream",
     "text": [
      "\n",
      "Q_bar(-0.7853981633974483)\n"
     ]
    },
    {
     "data": {
      "text/latex": [
       "$\\displaystyle \\left[\\begin{matrix}94516129032.2581 & 34516129032.2581 & -40322580645.1613\\\\34516129032.2581 & 94516129032.2581 & -40322580645.1613\\\\-40322580645.1613 & -40322580645.1613 & 56451612903.2258\\end{matrix}\\right]$"
      ],
      "text/plain": [
       "Matrix([\n",
       "[ 94516129032.2581,  34516129032.2581, -40322580645.1613],\n",
       "[ 34516129032.2581,  94516129032.2581, -40322580645.1613],\n",
       "[-40322580645.1613, -40322580645.1613,  56451612903.2258]])"
      ]
     },
     "metadata": {},
     "output_type": "display_data"
    },
    {
     "name": "stdout",
     "output_type": "stream",
     "text": [
      "\n"
     ]
    }
   ],
   "source": [
    "# Strain in each ply\n",
    "Q_list = []\n",
    "for angle in angle_list:\n",
    "    print(f\"Q_bar({angle})\")\n",
    "    display(sym.Matrix(Q_bar(angle)))\n",
    "    Q_list.append(Q_bar(angle))\n",
    "    print()\n"
   ]
  },
  {
   "cell_type": "code",
   "execution_count": null,
   "metadata": {},
   "outputs": [
    {
     "data": {
      "text/latex": [
       "$\\displaystyle \\left[\\begin{matrix}0 & 0 & 0\\\\0 & 0 & 0\\\\0 & 0 & 0\\end{matrix}\\right]$"
      ],
      "text/plain": [
       "Matrix([\n",
       "[0, 0, 0],\n",
       "[0, 0, 0],\n",
       "[0, 0, 0]])"
      ]
     },
     "metadata": {},
     "output_type": "display_data"
    },
    {
     "data": {
      "text/latex": [
       "$\\displaystyle \\left[\\begin{matrix}6.42150537634409 & 0.696774193548387 & 0.483870967741936\\\\0.696774193548387 & 3.19569892473118 & 0.483870967741936\\\\0.483870967741936 & 0.483870967741936 & 1.63268817204301\\end{matrix}\\right]$"
      ],
      "text/plain": [
       "Matrix([\n",
       "[ 6.42150537634409, 0.696774193548387, 0.483870967741936],\n",
       "[0.696774193548387,  3.19569892473118, 0.483870967741936],\n",
       "[0.483870967741936, 0.483870967741936,  1.63268817204301]])"
      ]
     },
     "metadata": {},
     "output_type": "display_data"
    }
   ],
   "source": [
    "A = 2*t*(sum(Q_list))\n",
    "B, D = BD_func(symmetric=True, repetitions=1, t=t)\n",
    "display(sym.Matrix(B), sym.Matrix(D))\n"
   ]
  },
  {
   "cell_type": "markdown",
   "metadata": {},
   "source": [
    "#### B=0 because of symmetry"
   ]
  },
  {
   "cell_type": "code",
   "execution_count": null,
   "metadata": {},
   "outputs": [
    {
     "data": {
      "text/latex": [
       "$\\displaystyle \\left[\\begin{matrix}161.870484067296\\\\-29.3466191160564\\\\-39.2753814726409\\end{matrix}\\right]$"
      ],
      "text/plain": [
       "Matrix([\n",
       "[ 161.870484067296],\n",
       "[-29.3466191160564],\n",
       "[-39.2753814726409]])"
      ]
     },
     "execution_count": 24,
     "metadata": {},
     "output_type": "execute_result"
    }
   ],
   "source": [
    "M_x = 1000\n",
    "\n",
    "epsilon_kappa_matrix = find_epsilon_kappa(M_x=M_x)\n",
    "kappa_matrix = epsilon_kappa_matrix[3:]\n",
    "sym.Matrix(kappa_matrix)"
   ]
  },
  {
   "cell_type": "markdown",
   "metadata": {},
   "source": [
    "#### If a plate is symmetric it will not experience shear forces, but only bending and twisting. While the asymmetric plate will experience all the forces. The asymmetric plate will also be elongated and sheared."
   ]
  }
 ],
 "metadata": {
  "kernelspec": {
   "display_name": "Python 3",
   "language": "python",
   "name": "python3"
  },
  "language_info": {
   "codemirror_mode": {
    "name": "ipython",
    "version": 3
   },
   "file_extension": ".py",
   "mimetype": "text/x-python",
   "name": "python",
   "nbconvert_exporter": "python",
   "pygments_lexer": "ipython3",
   "version": "3.11.8"
  }
 },
 "nbformat": 4,
 "nbformat_minor": 2
}

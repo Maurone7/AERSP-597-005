{
 "cells": [
  {
   "cell_type": "markdown",
   "metadata": {},
   "source": [
    "$\\epsilon_{Tc}=V_f\\epsilon_{Tf}+V_m\\epsilon_{Tm}=-\\nu_{LTc}\\epsilon_{Lc}$ \\\n",
    "Since $\\epsilon_{Lf}=\\epsilon_{Lm}=\\epsilon_{Lc}$ \\\n",
    "And $\\epsilon_{Tm}=-\\nu_{LTm}\\epsilon_{Lm},$ \\\n",
    "$\\epsilon_{Tf}=-\\nu_{LTf}\\epsilon_{Lf}$\n",
    "\n"
   ]
  },
  {
   "cell_type": "markdown",
   "metadata": {},
   "source": [
    "$V_f\\epsilon_{Tf}+V_m\\epsilon_{Tm}=-\\nu_{LTc}\\epsilon_{Lc}$"
   ]
  },
  {
   "cell_type": "markdown",
   "metadata": {},
   "source": [
    "$V_{f}(-\\nu_{LTf}\\epsilon_{Lf})+V_m(-\\nu_{LTm}\\epsilon_{Lm})=-\\nu_{LTc}\\epsilon_{Lc}$"
   ]
  },
  {
   "cell_type": "markdown",
   "metadata": {},
   "source": [
    "$V_{f}(-\\nu_{LTf}\\cancel{\\epsilon_{Lf}})+V_m(-\\nu_{LTm}\\cancel{\\epsilon_{Lm}})=-\\nu_{LTc}\\cancel{\\epsilon_{Lc}}$"
   ]
  },
  {
   "cell_type": "markdown",
   "metadata": {},
   "source": [
    "$\\rightarrow V_f\\nu_{LTf}+V_m\\nu_{LTm}=\\nu_{LTc}$"
   ]
  }
 ],
 "metadata": {
  "language_info": {
   "name": "python"
  }
 },
 "nbformat": 4,
 "nbformat_minor": 2
}
